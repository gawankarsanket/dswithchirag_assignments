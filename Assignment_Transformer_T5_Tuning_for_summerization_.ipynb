{
  "nbformat": 4,
  "nbformat_minor": 0,
  "metadata": {
    "colab": {
      "provenance": [],
      "gpuType": "T4",
      "authorship_tag": "ABX9TyPbRK/2MWvqdqAC95z7Vsk4",
      "include_colab_link": true
    },
    "kernelspec": {
      "name": "python3",
      "display_name": "Python 3"
    },
    "language_info": {
      "name": "python"
    },
    "widgets": {
      "application/vnd.jupyter.widget-state+json": {
        "eb63401f1ef14f838736218e35403b7c": {
          "model_module": "@jupyter-widgets/controls",
          "model_name": "HBoxModel",
          "model_module_version": "1.5.0",
          "state": {
            "_dom_classes": [],
            "_model_module": "@jupyter-widgets/controls",
            "_model_module_version": "1.5.0",
            "_model_name": "HBoxModel",
            "_view_count": null,
            "_view_module": "@jupyter-widgets/controls",
            "_view_module_version": "1.5.0",
            "_view_name": "HBoxView",
            "box_style": "",
            "children": [
              "IPY_MODEL_a229bb7328ba4703ae8616d63e795911",
              "IPY_MODEL_6c162ffaf39c4f1499f48f4822360fa6",
              "IPY_MODEL_fe416c32b3734c6eb9cc5a02329862ac"
            ],
            "layout": "IPY_MODEL_5f74221bbcab4ac2a52b377a60d0e400"
          }
        },
        "a229bb7328ba4703ae8616d63e795911": {
          "model_module": "@jupyter-widgets/controls",
          "model_name": "HTMLModel",
          "model_module_version": "1.5.0",
          "state": {
            "_dom_classes": [],
            "_model_module": "@jupyter-widgets/controls",
            "_model_module_version": "1.5.0",
            "_model_name": "HTMLModel",
            "_view_count": null,
            "_view_module": "@jupyter-widgets/controls",
            "_view_module_version": "1.5.0",
            "_view_name": "HTMLView",
            "description": "",
            "description_tooltip": null,
            "layout": "IPY_MODEL_9eac4f154ea44a968c5c9f1ab453e5e6",
            "placeholder": "​",
            "style": "IPY_MODEL_ca2f439ed9654102b8cc8bfda1935af3",
            "value": "tokenizer_config.json: 100%"
          }
        },
        "6c162ffaf39c4f1499f48f4822360fa6": {
          "model_module": "@jupyter-widgets/controls",
          "model_name": "FloatProgressModel",
          "model_module_version": "1.5.0",
          "state": {
            "_dom_classes": [],
            "_model_module": "@jupyter-widgets/controls",
            "_model_module_version": "1.5.0",
            "_model_name": "FloatProgressModel",
            "_view_count": null,
            "_view_module": "@jupyter-widgets/controls",
            "_view_module_version": "1.5.0",
            "_view_name": "ProgressView",
            "bar_style": "success",
            "description": "",
            "description_tooltip": null,
            "layout": "IPY_MODEL_2a35b8b22b104e6eadb3fbf64c82fb15",
            "max": 2324,
            "min": 0,
            "orientation": "horizontal",
            "style": "IPY_MODEL_f060c796aa0b4f6294abb4d89b0e3441",
            "value": 2324
          }
        },
        "fe416c32b3734c6eb9cc5a02329862ac": {
          "model_module": "@jupyter-widgets/controls",
          "model_name": "HTMLModel",
          "model_module_version": "1.5.0",
          "state": {
            "_dom_classes": [],
            "_model_module": "@jupyter-widgets/controls",
            "_model_module_version": "1.5.0",
            "_model_name": "HTMLModel",
            "_view_count": null,
            "_view_module": "@jupyter-widgets/controls",
            "_view_module_version": "1.5.0",
            "_view_name": "HTMLView",
            "description": "",
            "description_tooltip": null,
            "layout": "IPY_MODEL_1f189f3907894ab995255b704b496fa8",
            "placeholder": "​",
            "style": "IPY_MODEL_93ed6091f0f642af9cc0feeaf1c82f75",
            "value": " 2.32k/2.32k [00:00&lt;00:00, 95.5kB/s]"
          }
        },
        "5f74221bbcab4ac2a52b377a60d0e400": {
          "model_module": "@jupyter-widgets/base",
          "model_name": "LayoutModel",
          "model_module_version": "1.2.0",
          "state": {
            "_model_module": "@jupyter-widgets/base",
            "_model_module_version": "1.2.0",
            "_model_name": "LayoutModel",
            "_view_count": null,
            "_view_module": "@jupyter-widgets/base",
            "_view_module_version": "1.2.0",
            "_view_name": "LayoutView",
            "align_content": null,
            "align_items": null,
            "align_self": null,
            "border": null,
            "bottom": null,
            "display": null,
            "flex": null,
            "flex_flow": null,
            "grid_area": null,
            "grid_auto_columns": null,
            "grid_auto_flow": null,
            "grid_auto_rows": null,
            "grid_column": null,
            "grid_gap": null,
            "grid_row": null,
            "grid_template_areas": null,
            "grid_template_columns": null,
            "grid_template_rows": null,
            "height": null,
            "justify_content": null,
            "justify_items": null,
            "left": null,
            "margin": null,
            "max_height": null,
            "max_width": null,
            "min_height": null,
            "min_width": null,
            "object_fit": null,
            "object_position": null,
            "order": null,
            "overflow": null,
            "overflow_x": null,
            "overflow_y": null,
            "padding": null,
            "right": null,
            "top": null,
            "visibility": null,
            "width": null
          }
        },
        "9eac4f154ea44a968c5c9f1ab453e5e6": {
          "model_module": "@jupyter-widgets/base",
          "model_name": "LayoutModel",
          "model_module_version": "1.2.0",
          "state": {
            "_model_module": "@jupyter-widgets/base",
            "_model_module_version": "1.2.0",
            "_model_name": "LayoutModel",
            "_view_count": null,
            "_view_module": "@jupyter-widgets/base",
            "_view_module_version": "1.2.0",
            "_view_name": "LayoutView",
            "align_content": null,
            "align_items": null,
            "align_self": null,
            "border": null,
            "bottom": null,
            "display": null,
            "flex": null,
            "flex_flow": null,
            "grid_area": null,
            "grid_auto_columns": null,
            "grid_auto_flow": null,
            "grid_auto_rows": null,
            "grid_column": null,
            "grid_gap": null,
            "grid_row": null,
            "grid_template_areas": null,
            "grid_template_columns": null,
            "grid_template_rows": null,
            "height": null,
            "justify_content": null,
            "justify_items": null,
            "left": null,
            "margin": null,
            "max_height": null,
            "max_width": null,
            "min_height": null,
            "min_width": null,
            "object_fit": null,
            "object_position": null,
            "order": null,
            "overflow": null,
            "overflow_x": null,
            "overflow_y": null,
            "padding": null,
            "right": null,
            "top": null,
            "visibility": null,
            "width": null
          }
        },
        "ca2f439ed9654102b8cc8bfda1935af3": {
          "model_module": "@jupyter-widgets/controls",
          "model_name": "DescriptionStyleModel",
          "model_module_version": "1.5.0",
          "state": {
            "_model_module": "@jupyter-widgets/controls",
            "_model_module_version": "1.5.0",
            "_model_name": "DescriptionStyleModel",
            "_view_count": null,
            "_view_module": "@jupyter-widgets/base",
            "_view_module_version": "1.2.0",
            "_view_name": "StyleView",
            "description_width": ""
          }
        },
        "2a35b8b22b104e6eadb3fbf64c82fb15": {
          "model_module": "@jupyter-widgets/base",
          "model_name": "LayoutModel",
          "model_module_version": "1.2.0",
          "state": {
            "_model_module": "@jupyter-widgets/base",
            "_model_module_version": "1.2.0",
            "_model_name": "LayoutModel",
            "_view_count": null,
            "_view_module": "@jupyter-widgets/base",
            "_view_module_version": "1.2.0",
            "_view_name": "LayoutView",
            "align_content": null,
            "align_items": null,
            "align_self": null,
            "border": null,
            "bottom": null,
            "display": null,
            "flex": null,
            "flex_flow": null,
            "grid_area": null,
            "grid_auto_columns": null,
            "grid_auto_flow": null,
            "grid_auto_rows": null,
            "grid_column": null,
            "grid_gap": null,
            "grid_row": null,
            "grid_template_areas": null,
            "grid_template_columns": null,
            "grid_template_rows": null,
            "height": null,
            "justify_content": null,
            "justify_items": null,
            "left": null,
            "margin": null,
            "max_height": null,
            "max_width": null,
            "min_height": null,
            "min_width": null,
            "object_fit": null,
            "object_position": null,
            "order": null,
            "overflow": null,
            "overflow_x": null,
            "overflow_y": null,
            "padding": null,
            "right": null,
            "top": null,
            "visibility": null,
            "width": null
          }
        },
        "f060c796aa0b4f6294abb4d89b0e3441": {
          "model_module": "@jupyter-widgets/controls",
          "model_name": "ProgressStyleModel",
          "model_module_version": "1.5.0",
          "state": {
            "_model_module": "@jupyter-widgets/controls",
            "_model_module_version": "1.5.0",
            "_model_name": "ProgressStyleModel",
            "_view_count": null,
            "_view_module": "@jupyter-widgets/base",
            "_view_module_version": "1.2.0",
            "_view_name": "StyleView",
            "bar_color": null,
            "description_width": ""
          }
        },
        "1f189f3907894ab995255b704b496fa8": {
          "model_module": "@jupyter-widgets/base",
          "model_name": "LayoutModel",
          "model_module_version": "1.2.0",
          "state": {
            "_model_module": "@jupyter-widgets/base",
            "_model_module_version": "1.2.0",
            "_model_name": "LayoutModel",
            "_view_count": null,
            "_view_module": "@jupyter-widgets/base",
            "_view_module_version": "1.2.0",
            "_view_name": "LayoutView",
            "align_content": null,
            "align_items": null,
            "align_self": null,
            "border": null,
            "bottom": null,
            "display": null,
            "flex": null,
            "flex_flow": null,
            "grid_area": null,
            "grid_auto_columns": null,
            "grid_auto_flow": null,
            "grid_auto_rows": null,
            "grid_column": null,
            "grid_gap": null,
            "grid_row": null,
            "grid_template_areas": null,
            "grid_template_columns": null,
            "grid_template_rows": null,
            "height": null,
            "justify_content": null,
            "justify_items": null,
            "left": null,
            "margin": null,
            "max_height": null,
            "max_width": null,
            "min_height": null,
            "min_width": null,
            "object_fit": null,
            "object_position": null,
            "order": null,
            "overflow": null,
            "overflow_x": null,
            "overflow_y": null,
            "padding": null,
            "right": null,
            "top": null,
            "visibility": null,
            "width": null
          }
        },
        "93ed6091f0f642af9cc0feeaf1c82f75": {
          "model_module": "@jupyter-widgets/controls",
          "model_name": "DescriptionStyleModel",
          "model_module_version": "1.5.0",
          "state": {
            "_model_module": "@jupyter-widgets/controls",
            "_model_module_version": "1.5.0",
            "_model_name": "DescriptionStyleModel",
            "_view_count": null,
            "_view_module": "@jupyter-widgets/base",
            "_view_module_version": "1.2.0",
            "_view_name": "StyleView",
            "description_width": ""
          }
        },
        "4cfb4586477b4fc7b0568b5f7b53c849": {
          "model_module": "@jupyter-widgets/controls",
          "model_name": "HBoxModel",
          "model_module_version": "1.5.0",
          "state": {
            "_dom_classes": [],
            "_model_module": "@jupyter-widgets/controls",
            "_model_module_version": "1.5.0",
            "_model_name": "HBoxModel",
            "_view_count": null,
            "_view_module": "@jupyter-widgets/controls",
            "_view_module_version": "1.5.0",
            "_view_name": "HBoxView",
            "box_style": "",
            "children": [
              "IPY_MODEL_0bc8fbbb715849eda7be255e416e43ca",
              "IPY_MODEL_60a30e7add3043739ee745e1a6205de6",
              "IPY_MODEL_e6fac56300b945178143a16a470b9e56"
            ],
            "layout": "IPY_MODEL_a950c5a588bb47b59a216274718625d6"
          }
        },
        "0bc8fbbb715849eda7be255e416e43ca": {
          "model_module": "@jupyter-widgets/controls",
          "model_name": "HTMLModel",
          "model_module_version": "1.5.0",
          "state": {
            "_dom_classes": [],
            "_model_module": "@jupyter-widgets/controls",
            "_model_module_version": "1.5.0",
            "_model_name": "HTMLModel",
            "_view_count": null,
            "_view_module": "@jupyter-widgets/controls",
            "_view_module_version": "1.5.0",
            "_view_name": "HTMLView",
            "description": "",
            "description_tooltip": null,
            "layout": "IPY_MODEL_46fcf82c31544b71a1e740e6a52d68ee",
            "placeholder": "​",
            "style": "IPY_MODEL_956bba7fac00421ba26a5ad0599d46dc",
            "value": "spiece.model: 100%"
          }
        },
        "60a30e7add3043739ee745e1a6205de6": {
          "model_module": "@jupyter-widgets/controls",
          "model_name": "FloatProgressModel",
          "model_module_version": "1.5.0",
          "state": {
            "_dom_classes": [],
            "_model_module": "@jupyter-widgets/controls",
            "_model_module_version": "1.5.0",
            "_model_name": "FloatProgressModel",
            "_view_count": null,
            "_view_module": "@jupyter-widgets/controls",
            "_view_module_version": "1.5.0",
            "_view_name": "ProgressView",
            "bar_style": "success",
            "description": "",
            "description_tooltip": null,
            "layout": "IPY_MODEL_b73124e7d26c441dbcc7363406df1050",
            "max": 791656,
            "min": 0,
            "orientation": "horizontal",
            "style": "IPY_MODEL_fd861646e90b4d4396ec0dfae3c4afc4",
            "value": 791656
          }
        },
        "e6fac56300b945178143a16a470b9e56": {
          "model_module": "@jupyter-widgets/controls",
          "model_name": "HTMLModel",
          "model_module_version": "1.5.0",
          "state": {
            "_dom_classes": [],
            "_model_module": "@jupyter-widgets/controls",
            "_model_module_version": "1.5.0",
            "_model_name": "HTMLModel",
            "_view_count": null,
            "_view_module": "@jupyter-widgets/controls",
            "_view_module_version": "1.5.0",
            "_view_name": "HTMLView",
            "description": "",
            "description_tooltip": null,
            "layout": "IPY_MODEL_2bdf2a7df36f4b49ad88a5015490516f",
            "placeholder": "​",
            "style": "IPY_MODEL_c3f87e9493c04c8981302cd1ba6c8069",
            "value": " 792k/792k [00:00&lt;00:00, 11.9MB/s]"
          }
        },
        "a950c5a588bb47b59a216274718625d6": {
          "model_module": "@jupyter-widgets/base",
          "model_name": "LayoutModel",
          "model_module_version": "1.2.0",
          "state": {
            "_model_module": "@jupyter-widgets/base",
            "_model_module_version": "1.2.0",
            "_model_name": "LayoutModel",
            "_view_count": null,
            "_view_module": "@jupyter-widgets/base",
            "_view_module_version": "1.2.0",
            "_view_name": "LayoutView",
            "align_content": null,
            "align_items": null,
            "align_self": null,
            "border": null,
            "bottom": null,
            "display": null,
            "flex": null,
            "flex_flow": null,
            "grid_area": null,
            "grid_auto_columns": null,
            "grid_auto_flow": null,
            "grid_auto_rows": null,
            "grid_column": null,
            "grid_gap": null,
            "grid_row": null,
            "grid_template_areas": null,
            "grid_template_columns": null,
            "grid_template_rows": null,
            "height": null,
            "justify_content": null,
            "justify_items": null,
            "left": null,
            "margin": null,
            "max_height": null,
            "max_width": null,
            "min_height": null,
            "min_width": null,
            "object_fit": null,
            "object_position": null,
            "order": null,
            "overflow": null,
            "overflow_x": null,
            "overflow_y": null,
            "padding": null,
            "right": null,
            "top": null,
            "visibility": null,
            "width": null
          }
        },
        "46fcf82c31544b71a1e740e6a52d68ee": {
          "model_module": "@jupyter-widgets/base",
          "model_name": "LayoutModel",
          "model_module_version": "1.2.0",
          "state": {
            "_model_module": "@jupyter-widgets/base",
            "_model_module_version": "1.2.0",
            "_model_name": "LayoutModel",
            "_view_count": null,
            "_view_module": "@jupyter-widgets/base",
            "_view_module_version": "1.2.0",
            "_view_name": "LayoutView",
            "align_content": null,
            "align_items": null,
            "align_self": null,
            "border": null,
            "bottom": null,
            "display": null,
            "flex": null,
            "flex_flow": null,
            "grid_area": null,
            "grid_auto_columns": null,
            "grid_auto_flow": null,
            "grid_auto_rows": null,
            "grid_column": null,
            "grid_gap": null,
            "grid_row": null,
            "grid_template_areas": null,
            "grid_template_columns": null,
            "grid_template_rows": null,
            "height": null,
            "justify_content": null,
            "justify_items": null,
            "left": null,
            "margin": null,
            "max_height": null,
            "max_width": null,
            "min_height": null,
            "min_width": null,
            "object_fit": null,
            "object_position": null,
            "order": null,
            "overflow": null,
            "overflow_x": null,
            "overflow_y": null,
            "padding": null,
            "right": null,
            "top": null,
            "visibility": null,
            "width": null
          }
        },
        "956bba7fac00421ba26a5ad0599d46dc": {
          "model_module": "@jupyter-widgets/controls",
          "model_name": "DescriptionStyleModel",
          "model_module_version": "1.5.0",
          "state": {
            "_model_module": "@jupyter-widgets/controls",
            "_model_module_version": "1.5.0",
            "_model_name": "DescriptionStyleModel",
            "_view_count": null,
            "_view_module": "@jupyter-widgets/base",
            "_view_module_version": "1.2.0",
            "_view_name": "StyleView",
            "description_width": ""
          }
        },
        "b73124e7d26c441dbcc7363406df1050": {
          "model_module": "@jupyter-widgets/base",
          "model_name": "LayoutModel",
          "model_module_version": "1.2.0",
          "state": {
            "_model_module": "@jupyter-widgets/base",
            "_model_module_version": "1.2.0",
            "_model_name": "LayoutModel",
            "_view_count": null,
            "_view_module": "@jupyter-widgets/base",
            "_view_module_version": "1.2.0",
            "_view_name": "LayoutView",
            "align_content": null,
            "align_items": null,
            "align_self": null,
            "border": null,
            "bottom": null,
            "display": null,
            "flex": null,
            "flex_flow": null,
            "grid_area": null,
            "grid_auto_columns": null,
            "grid_auto_flow": null,
            "grid_auto_rows": null,
            "grid_column": null,
            "grid_gap": null,
            "grid_row": null,
            "grid_template_areas": null,
            "grid_template_columns": null,
            "grid_template_rows": null,
            "height": null,
            "justify_content": null,
            "justify_items": null,
            "left": null,
            "margin": null,
            "max_height": null,
            "max_width": null,
            "min_height": null,
            "min_width": null,
            "object_fit": null,
            "object_position": null,
            "order": null,
            "overflow": null,
            "overflow_x": null,
            "overflow_y": null,
            "padding": null,
            "right": null,
            "top": null,
            "visibility": null,
            "width": null
          }
        },
        "fd861646e90b4d4396ec0dfae3c4afc4": {
          "model_module": "@jupyter-widgets/controls",
          "model_name": "ProgressStyleModel",
          "model_module_version": "1.5.0",
          "state": {
            "_model_module": "@jupyter-widgets/controls",
            "_model_module_version": "1.5.0",
            "_model_name": "ProgressStyleModel",
            "_view_count": null,
            "_view_module": "@jupyter-widgets/base",
            "_view_module_version": "1.2.0",
            "_view_name": "StyleView",
            "bar_color": null,
            "description_width": ""
          }
        },
        "2bdf2a7df36f4b49ad88a5015490516f": {
          "model_module": "@jupyter-widgets/base",
          "model_name": "LayoutModel",
          "model_module_version": "1.2.0",
          "state": {
            "_model_module": "@jupyter-widgets/base",
            "_model_module_version": "1.2.0",
            "_model_name": "LayoutModel",
            "_view_count": null,
            "_view_module": "@jupyter-widgets/base",
            "_view_module_version": "1.2.0",
            "_view_name": "LayoutView",
            "align_content": null,
            "align_items": null,
            "align_self": null,
            "border": null,
            "bottom": null,
            "display": null,
            "flex": null,
            "flex_flow": null,
            "grid_area": null,
            "grid_auto_columns": null,
            "grid_auto_flow": null,
            "grid_auto_rows": null,
            "grid_column": null,
            "grid_gap": null,
            "grid_row": null,
            "grid_template_areas": null,
            "grid_template_columns": null,
            "grid_template_rows": null,
            "height": null,
            "justify_content": null,
            "justify_items": null,
            "left": null,
            "margin": null,
            "max_height": null,
            "max_width": null,
            "min_height": null,
            "min_width": null,
            "object_fit": null,
            "object_position": null,
            "order": null,
            "overflow": null,
            "overflow_x": null,
            "overflow_y": null,
            "padding": null,
            "right": null,
            "top": null,
            "visibility": null,
            "width": null
          }
        },
        "c3f87e9493c04c8981302cd1ba6c8069": {
          "model_module": "@jupyter-widgets/controls",
          "model_name": "DescriptionStyleModel",
          "model_module_version": "1.5.0",
          "state": {
            "_model_module": "@jupyter-widgets/controls",
            "_model_module_version": "1.5.0",
            "_model_name": "DescriptionStyleModel",
            "_view_count": null,
            "_view_module": "@jupyter-widgets/base",
            "_view_module_version": "1.2.0",
            "_view_name": "StyleView",
            "description_width": ""
          }
        },
        "bc5668833ec547fb8d5999dc2fb6522f": {
          "model_module": "@jupyter-widgets/controls",
          "model_name": "HBoxModel",
          "model_module_version": "1.5.0",
          "state": {
            "_dom_classes": [],
            "_model_module": "@jupyter-widgets/controls",
            "_model_module_version": "1.5.0",
            "_model_name": "HBoxModel",
            "_view_count": null,
            "_view_module": "@jupyter-widgets/controls",
            "_view_module_version": "1.5.0",
            "_view_name": "HBoxView",
            "box_style": "",
            "children": [
              "IPY_MODEL_e72244236636484bb0a6e0e1921bb6b1",
              "IPY_MODEL_0f552e8f7f0748a1800d1dfabc93107e",
              "IPY_MODEL_1b37448507c446ce88dc1cb9d1beef87"
            ],
            "layout": "IPY_MODEL_be385fc1623f46a581201fc07d5c1180"
          }
        },
        "e72244236636484bb0a6e0e1921bb6b1": {
          "model_module": "@jupyter-widgets/controls",
          "model_name": "HTMLModel",
          "model_module_version": "1.5.0",
          "state": {
            "_dom_classes": [],
            "_model_module": "@jupyter-widgets/controls",
            "_model_module_version": "1.5.0",
            "_model_name": "HTMLModel",
            "_view_count": null,
            "_view_module": "@jupyter-widgets/controls",
            "_view_module_version": "1.5.0",
            "_view_name": "HTMLView",
            "description": "",
            "description_tooltip": null,
            "layout": "IPY_MODEL_c40b51780b314bf28954a5636efd9c83",
            "placeholder": "​",
            "style": "IPY_MODEL_06b2124dc61f4520bc5c93d88de1f63c",
            "value": "tokenizer.json: 100%"
          }
        },
        "0f552e8f7f0748a1800d1dfabc93107e": {
          "model_module": "@jupyter-widgets/controls",
          "model_name": "FloatProgressModel",
          "model_module_version": "1.5.0",
          "state": {
            "_dom_classes": [],
            "_model_module": "@jupyter-widgets/controls",
            "_model_module_version": "1.5.0",
            "_model_name": "FloatProgressModel",
            "_view_count": null,
            "_view_module": "@jupyter-widgets/controls",
            "_view_module_version": "1.5.0",
            "_view_name": "ProgressView",
            "bar_style": "success",
            "description": "",
            "description_tooltip": null,
            "layout": "IPY_MODEL_d023255de61e4f80b1ab8b49f1c2c29a",
            "max": 1389353,
            "min": 0,
            "orientation": "horizontal",
            "style": "IPY_MODEL_37416c418c564e96bae4e53571019c91",
            "value": 1389353
          }
        },
        "1b37448507c446ce88dc1cb9d1beef87": {
          "model_module": "@jupyter-widgets/controls",
          "model_name": "HTMLModel",
          "model_module_version": "1.5.0",
          "state": {
            "_dom_classes": [],
            "_model_module": "@jupyter-widgets/controls",
            "_model_module_version": "1.5.0",
            "_model_name": "HTMLModel",
            "_view_count": null,
            "_view_module": "@jupyter-widgets/controls",
            "_view_module_version": "1.5.0",
            "_view_name": "HTMLView",
            "description": "",
            "description_tooltip": null,
            "layout": "IPY_MODEL_856e50a3c29e454689a98f7ec7676f50",
            "placeholder": "​",
            "style": "IPY_MODEL_d358d1352dcb4f619d8bd0310ce1b0ee",
            "value": " 1.39M/1.39M [00:00&lt;00:00, 13.0MB/s]"
          }
        },
        "be385fc1623f46a581201fc07d5c1180": {
          "model_module": "@jupyter-widgets/base",
          "model_name": "LayoutModel",
          "model_module_version": "1.2.0",
          "state": {
            "_model_module": "@jupyter-widgets/base",
            "_model_module_version": "1.2.0",
            "_model_name": "LayoutModel",
            "_view_count": null,
            "_view_module": "@jupyter-widgets/base",
            "_view_module_version": "1.2.0",
            "_view_name": "LayoutView",
            "align_content": null,
            "align_items": null,
            "align_self": null,
            "border": null,
            "bottom": null,
            "display": null,
            "flex": null,
            "flex_flow": null,
            "grid_area": null,
            "grid_auto_columns": null,
            "grid_auto_flow": null,
            "grid_auto_rows": null,
            "grid_column": null,
            "grid_gap": null,
            "grid_row": null,
            "grid_template_areas": null,
            "grid_template_columns": null,
            "grid_template_rows": null,
            "height": null,
            "justify_content": null,
            "justify_items": null,
            "left": null,
            "margin": null,
            "max_height": null,
            "max_width": null,
            "min_height": null,
            "min_width": null,
            "object_fit": null,
            "object_position": null,
            "order": null,
            "overflow": null,
            "overflow_x": null,
            "overflow_y": null,
            "padding": null,
            "right": null,
            "top": null,
            "visibility": null,
            "width": null
          }
        },
        "c40b51780b314bf28954a5636efd9c83": {
          "model_module": "@jupyter-widgets/base",
          "model_name": "LayoutModel",
          "model_module_version": "1.2.0",
          "state": {
            "_model_module": "@jupyter-widgets/base",
            "_model_module_version": "1.2.0",
            "_model_name": "LayoutModel",
            "_view_count": null,
            "_view_module": "@jupyter-widgets/base",
            "_view_module_version": "1.2.0",
            "_view_name": "LayoutView",
            "align_content": null,
            "align_items": null,
            "align_self": null,
            "border": null,
            "bottom": null,
            "display": null,
            "flex": null,
            "flex_flow": null,
            "grid_area": null,
            "grid_auto_columns": null,
            "grid_auto_flow": null,
            "grid_auto_rows": null,
            "grid_column": null,
            "grid_gap": null,
            "grid_row": null,
            "grid_template_areas": null,
            "grid_template_columns": null,
            "grid_template_rows": null,
            "height": null,
            "justify_content": null,
            "justify_items": null,
            "left": null,
            "margin": null,
            "max_height": null,
            "max_width": null,
            "min_height": null,
            "min_width": null,
            "object_fit": null,
            "object_position": null,
            "order": null,
            "overflow": null,
            "overflow_x": null,
            "overflow_y": null,
            "padding": null,
            "right": null,
            "top": null,
            "visibility": null,
            "width": null
          }
        },
        "06b2124dc61f4520bc5c93d88de1f63c": {
          "model_module": "@jupyter-widgets/controls",
          "model_name": "DescriptionStyleModel",
          "model_module_version": "1.5.0",
          "state": {
            "_model_module": "@jupyter-widgets/controls",
            "_model_module_version": "1.5.0",
            "_model_name": "DescriptionStyleModel",
            "_view_count": null,
            "_view_module": "@jupyter-widgets/base",
            "_view_module_version": "1.2.0",
            "_view_name": "StyleView",
            "description_width": ""
          }
        },
        "d023255de61e4f80b1ab8b49f1c2c29a": {
          "model_module": "@jupyter-widgets/base",
          "model_name": "LayoutModel",
          "model_module_version": "1.2.0",
          "state": {
            "_model_module": "@jupyter-widgets/base",
            "_model_module_version": "1.2.0",
            "_model_name": "LayoutModel",
            "_view_count": null,
            "_view_module": "@jupyter-widgets/base",
            "_view_module_version": "1.2.0",
            "_view_name": "LayoutView",
            "align_content": null,
            "align_items": null,
            "align_self": null,
            "border": null,
            "bottom": null,
            "display": null,
            "flex": null,
            "flex_flow": null,
            "grid_area": null,
            "grid_auto_columns": null,
            "grid_auto_flow": null,
            "grid_auto_rows": null,
            "grid_column": null,
            "grid_gap": null,
            "grid_row": null,
            "grid_template_areas": null,
            "grid_template_columns": null,
            "grid_template_rows": null,
            "height": null,
            "justify_content": null,
            "justify_items": null,
            "left": null,
            "margin": null,
            "max_height": null,
            "max_width": null,
            "min_height": null,
            "min_width": null,
            "object_fit": null,
            "object_position": null,
            "order": null,
            "overflow": null,
            "overflow_x": null,
            "overflow_y": null,
            "padding": null,
            "right": null,
            "top": null,
            "visibility": null,
            "width": null
          }
        },
        "37416c418c564e96bae4e53571019c91": {
          "model_module": "@jupyter-widgets/controls",
          "model_name": "ProgressStyleModel",
          "model_module_version": "1.5.0",
          "state": {
            "_model_module": "@jupyter-widgets/controls",
            "_model_module_version": "1.5.0",
            "_model_name": "ProgressStyleModel",
            "_view_count": null,
            "_view_module": "@jupyter-widgets/base",
            "_view_module_version": "1.2.0",
            "_view_name": "StyleView",
            "bar_color": null,
            "description_width": ""
          }
        },
        "856e50a3c29e454689a98f7ec7676f50": {
          "model_module": "@jupyter-widgets/base",
          "model_name": "LayoutModel",
          "model_module_version": "1.2.0",
          "state": {
            "_model_module": "@jupyter-widgets/base",
            "_model_module_version": "1.2.0",
            "_model_name": "LayoutModel",
            "_view_count": null,
            "_view_module": "@jupyter-widgets/base",
            "_view_module_version": "1.2.0",
            "_view_name": "LayoutView",
            "align_content": null,
            "align_items": null,
            "align_self": null,
            "border": null,
            "bottom": null,
            "display": null,
            "flex": null,
            "flex_flow": null,
            "grid_area": null,
            "grid_auto_columns": null,
            "grid_auto_flow": null,
            "grid_auto_rows": null,
            "grid_column": null,
            "grid_gap": null,
            "grid_row": null,
            "grid_template_areas": null,
            "grid_template_columns": null,
            "grid_template_rows": null,
            "height": null,
            "justify_content": null,
            "justify_items": null,
            "left": null,
            "margin": null,
            "max_height": null,
            "max_width": null,
            "min_height": null,
            "min_width": null,
            "object_fit": null,
            "object_position": null,
            "order": null,
            "overflow": null,
            "overflow_x": null,
            "overflow_y": null,
            "padding": null,
            "right": null,
            "top": null,
            "visibility": null,
            "width": null
          }
        },
        "d358d1352dcb4f619d8bd0310ce1b0ee": {
          "model_module": "@jupyter-widgets/controls",
          "model_name": "DescriptionStyleModel",
          "model_module_version": "1.5.0",
          "state": {
            "_model_module": "@jupyter-widgets/controls",
            "_model_module_version": "1.5.0",
            "_model_name": "DescriptionStyleModel",
            "_view_count": null,
            "_view_module": "@jupyter-widgets/base",
            "_view_module_version": "1.2.0",
            "_view_name": "StyleView",
            "description_width": ""
          }
        },
        "b49bcef178fd4f51bc0bf5cc82b867c3": {
          "model_module": "@jupyter-widgets/controls",
          "model_name": "HBoxModel",
          "model_module_version": "1.5.0",
          "state": {
            "_dom_classes": [],
            "_model_module": "@jupyter-widgets/controls",
            "_model_module_version": "1.5.0",
            "_model_name": "HBoxModel",
            "_view_count": null,
            "_view_module": "@jupyter-widgets/controls",
            "_view_module_version": "1.5.0",
            "_view_name": "HBoxView",
            "box_style": "",
            "children": [
              "IPY_MODEL_26b88ba8773e476f9af53c71e3f27f6c",
              "IPY_MODEL_3939cfeaac5a43608859040aa523e2e2",
              "IPY_MODEL_921fb6a5f6374ea89d427bb04cfe69f5"
            ],
            "layout": "IPY_MODEL_8672fe6a71614783af456e0d4b0b828c"
          }
        },
        "26b88ba8773e476f9af53c71e3f27f6c": {
          "model_module": "@jupyter-widgets/controls",
          "model_name": "HTMLModel",
          "model_module_version": "1.5.0",
          "state": {
            "_dom_classes": [],
            "_model_module": "@jupyter-widgets/controls",
            "_model_module_version": "1.5.0",
            "_model_name": "HTMLModel",
            "_view_count": null,
            "_view_module": "@jupyter-widgets/controls",
            "_view_module_version": "1.5.0",
            "_view_name": "HTMLView",
            "description": "",
            "description_tooltip": null,
            "layout": "IPY_MODEL_ed61d911591c481b8b9d5fcd121bcd65",
            "placeholder": "​",
            "style": "IPY_MODEL_3610cb3fac814d16881da6e045767d6b",
            "value": "config.json: 100%"
          }
        },
        "3939cfeaac5a43608859040aa523e2e2": {
          "model_module": "@jupyter-widgets/controls",
          "model_name": "FloatProgressModel",
          "model_module_version": "1.5.0",
          "state": {
            "_dom_classes": [],
            "_model_module": "@jupyter-widgets/controls",
            "_model_module_version": "1.5.0",
            "_model_name": "FloatProgressModel",
            "_view_count": null,
            "_view_module": "@jupyter-widgets/controls",
            "_view_module_version": "1.5.0",
            "_view_name": "ProgressView",
            "bar_style": "success",
            "description": "",
            "description_tooltip": null,
            "layout": "IPY_MODEL_9348bad14a974a91a7416fd83ced1e5f",
            "max": 1206,
            "min": 0,
            "orientation": "horizontal",
            "style": "IPY_MODEL_fb3cdf6fa703428488ab88de1ceb279c",
            "value": 1206
          }
        },
        "921fb6a5f6374ea89d427bb04cfe69f5": {
          "model_module": "@jupyter-widgets/controls",
          "model_name": "HTMLModel",
          "model_module_version": "1.5.0",
          "state": {
            "_dom_classes": [],
            "_model_module": "@jupyter-widgets/controls",
            "_model_module_version": "1.5.0",
            "_model_name": "HTMLModel",
            "_view_count": null,
            "_view_module": "@jupyter-widgets/controls",
            "_view_module_version": "1.5.0",
            "_view_name": "HTMLView",
            "description": "",
            "description_tooltip": null,
            "layout": "IPY_MODEL_10a53905cb3f47268fb5179c17ef2d97",
            "placeholder": "​",
            "style": "IPY_MODEL_0ee79c967eb042f8840923b9d633a607",
            "value": " 1.21k/1.21k [00:00&lt;00:00, 90.3kB/s]"
          }
        },
        "8672fe6a71614783af456e0d4b0b828c": {
          "model_module": "@jupyter-widgets/base",
          "model_name": "LayoutModel",
          "model_module_version": "1.2.0",
          "state": {
            "_model_module": "@jupyter-widgets/base",
            "_model_module_version": "1.2.0",
            "_model_name": "LayoutModel",
            "_view_count": null,
            "_view_module": "@jupyter-widgets/base",
            "_view_module_version": "1.2.0",
            "_view_name": "LayoutView",
            "align_content": null,
            "align_items": null,
            "align_self": null,
            "border": null,
            "bottom": null,
            "display": null,
            "flex": null,
            "flex_flow": null,
            "grid_area": null,
            "grid_auto_columns": null,
            "grid_auto_flow": null,
            "grid_auto_rows": null,
            "grid_column": null,
            "grid_gap": null,
            "grid_row": null,
            "grid_template_areas": null,
            "grid_template_columns": null,
            "grid_template_rows": null,
            "height": null,
            "justify_content": null,
            "justify_items": null,
            "left": null,
            "margin": null,
            "max_height": null,
            "max_width": null,
            "min_height": null,
            "min_width": null,
            "object_fit": null,
            "object_position": null,
            "order": null,
            "overflow": null,
            "overflow_x": null,
            "overflow_y": null,
            "padding": null,
            "right": null,
            "top": null,
            "visibility": null,
            "width": null
          }
        },
        "ed61d911591c481b8b9d5fcd121bcd65": {
          "model_module": "@jupyter-widgets/base",
          "model_name": "LayoutModel",
          "model_module_version": "1.2.0",
          "state": {
            "_model_module": "@jupyter-widgets/base",
            "_model_module_version": "1.2.0",
            "_model_name": "LayoutModel",
            "_view_count": null,
            "_view_module": "@jupyter-widgets/base",
            "_view_module_version": "1.2.0",
            "_view_name": "LayoutView",
            "align_content": null,
            "align_items": null,
            "align_self": null,
            "border": null,
            "bottom": null,
            "display": null,
            "flex": null,
            "flex_flow": null,
            "grid_area": null,
            "grid_auto_columns": null,
            "grid_auto_flow": null,
            "grid_auto_rows": null,
            "grid_column": null,
            "grid_gap": null,
            "grid_row": null,
            "grid_template_areas": null,
            "grid_template_columns": null,
            "grid_template_rows": null,
            "height": null,
            "justify_content": null,
            "justify_items": null,
            "left": null,
            "margin": null,
            "max_height": null,
            "max_width": null,
            "min_height": null,
            "min_width": null,
            "object_fit": null,
            "object_position": null,
            "order": null,
            "overflow": null,
            "overflow_x": null,
            "overflow_y": null,
            "padding": null,
            "right": null,
            "top": null,
            "visibility": null,
            "width": null
          }
        },
        "3610cb3fac814d16881da6e045767d6b": {
          "model_module": "@jupyter-widgets/controls",
          "model_name": "DescriptionStyleModel",
          "model_module_version": "1.5.0",
          "state": {
            "_model_module": "@jupyter-widgets/controls",
            "_model_module_version": "1.5.0",
            "_model_name": "DescriptionStyleModel",
            "_view_count": null,
            "_view_module": "@jupyter-widgets/base",
            "_view_module_version": "1.2.0",
            "_view_name": "StyleView",
            "description_width": ""
          }
        },
        "9348bad14a974a91a7416fd83ced1e5f": {
          "model_module": "@jupyter-widgets/base",
          "model_name": "LayoutModel",
          "model_module_version": "1.2.0",
          "state": {
            "_model_module": "@jupyter-widgets/base",
            "_model_module_version": "1.2.0",
            "_model_name": "LayoutModel",
            "_view_count": null,
            "_view_module": "@jupyter-widgets/base",
            "_view_module_version": "1.2.0",
            "_view_name": "LayoutView",
            "align_content": null,
            "align_items": null,
            "align_self": null,
            "border": null,
            "bottom": null,
            "display": null,
            "flex": null,
            "flex_flow": null,
            "grid_area": null,
            "grid_auto_columns": null,
            "grid_auto_flow": null,
            "grid_auto_rows": null,
            "grid_column": null,
            "grid_gap": null,
            "grid_row": null,
            "grid_template_areas": null,
            "grid_template_columns": null,
            "grid_template_rows": null,
            "height": null,
            "justify_content": null,
            "justify_items": null,
            "left": null,
            "margin": null,
            "max_height": null,
            "max_width": null,
            "min_height": null,
            "min_width": null,
            "object_fit": null,
            "object_position": null,
            "order": null,
            "overflow": null,
            "overflow_x": null,
            "overflow_y": null,
            "padding": null,
            "right": null,
            "top": null,
            "visibility": null,
            "width": null
          }
        },
        "fb3cdf6fa703428488ab88de1ceb279c": {
          "model_module": "@jupyter-widgets/controls",
          "model_name": "ProgressStyleModel",
          "model_module_version": "1.5.0",
          "state": {
            "_model_module": "@jupyter-widgets/controls",
            "_model_module_version": "1.5.0",
            "_model_name": "ProgressStyleModel",
            "_view_count": null,
            "_view_module": "@jupyter-widgets/base",
            "_view_module_version": "1.2.0",
            "_view_name": "StyleView",
            "bar_color": null,
            "description_width": ""
          }
        },
        "10a53905cb3f47268fb5179c17ef2d97": {
          "model_module": "@jupyter-widgets/base",
          "model_name": "LayoutModel",
          "model_module_version": "1.2.0",
          "state": {
            "_model_module": "@jupyter-widgets/base",
            "_model_module_version": "1.2.0",
            "_model_name": "LayoutModel",
            "_view_count": null,
            "_view_module": "@jupyter-widgets/base",
            "_view_module_version": "1.2.0",
            "_view_name": "LayoutView",
            "align_content": null,
            "align_items": null,
            "align_self": null,
            "border": null,
            "bottom": null,
            "display": null,
            "flex": null,
            "flex_flow": null,
            "grid_area": null,
            "grid_auto_columns": null,
            "grid_auto_flow": null,
            "grid_auto_rows": null,
            "grid_column": null,
            "grid_gap": null,
            "grid_row": null,
            "grid_template_areas": null,
            "grid_template_columns": null,
            "grid_template_rows": null,
            "height": null,
            "justify_content": null,
            "justify_items": null,
            "left": null,
            "margin": null,
            "max_height": null,
            "max_width": null,
            "min_height": null,
            "min_width": null,
            "object_fit": null,
            "object_position": null,
            "order": null,
            "overflow": null,
            "overflow_x": null,
            "overflow_y": null,
            "padding": null,
            "right": null,
            "top": null,
            "visibility": null,
            "width": null
          }
        },
        "0ee79c967eb042f8840923b9d633a607": {
          "model_module": "@jupyter-widgets/controls",
          "model_name": "DescriptionStyleModel",
          "model_module_version": "1.5.0",
          "state": {
            "_model_module": "@jupyter-widgets/controls",
            "_model_module_version": "1.5.0",
            "_model_name": "DescriptionStyleModel",
            "_view_count": null,
            "_view_module": "@jupyter-widgets/base",
            "_view_module_version": "1.2.0",
            "_view_name": "StyleView",
            "description_width": ""
          }
        },
        "417323f18f2e488eaec0323711250fb3": {
          "model_module": "@jupyter-widgets/controls",
          "model_name": "HBoxModel",
          "model_module_version": "1.5.0",
          "state": {
            "_dom_classes": [],
            "_model_module": "@jupyter-widgets/controls",
            "_model_module_version": "1.5.0",
            "_model_name": "HBoxModel",
            "_view_count": null,
            "_view_module": "@jupyter-widgets/controls",
            "_view_module_version": "1.5.0",
            "_view_name": "HBoxView",
            "box_style": "",
            "children": [
              "IPY_MODEL_2bf2386e418c419985b8449a851e7ff2",
              "IPY_MODEL_f632fb0ed7aa4380aa3752b6f83b009e",
              "IPY_MODEL_0ba1d05142264f53909608e323b33776"
            ],
            "layout": "IPY_MODEL_bbb8cc48623d4328a4064cd4e365ed52"
          }
        },
        "2bf2386e418c419985b8449a851e7ff2": {
          "model_module": "@jupyter-widgets/controls",
          "model_name": "HTMLModel",
          "model_module_version": "1.5.0",
          "state": {
            "_dom_classes": [],
            "_model_module": "@jupyter-widgets/controls",
            "_model_module_version": "1.5.0",
            "_model_name": "HTMLModel",
            "_view_count": null,
            "_view_module": "@jupyter-widgets/controls",
            "_view_module_version": "1.5.0",
            "_view_name": "HTMLView",
            "description": "",
            "description_tooltip": null,
            "layout": "IPY_MODEL_747960b01d914c4085953606d6af072c",
            "placeholder": "​",
            "style": "IPY_MODEL_a0e7f20da03d4b5bb8eda9f37feded90",
            "value": "model.safetensors: 100%"
          }
        },
        "f632fb0ed7aa4380aa3752b6f83b009e": {
          "model_module": "@jupyter-widgets/controls",
          "model_name": "FloatProgressModel",
          "model_module_version": "1.5.0",
          "state": {
            "_dom_classes": [],
            "_model_module": "@jupyter-widgets/controls",
            "_model_module_version": "1.5.0",
            "_model_name": "FloatProgressModel",
            "_view_count": null,
            "_view_module": "@jupyter-widgets/controls",
            "_view_module_version": "1.5.0",
            "_view_name": "ProgressView",
            "bar_style": "success",
            "description": "",
            "description_tooltip": null,
            "layout": "IPY_MODEL_d7125ed3f7e649b8befcc6b6399f9439",
            "max": 242043056,
            "min": 0,
            "orientation": "horizontal",
            "style": "IPY_MODEL_51aaf53bde8b46f7b6ff2600ce77fa6b",
            "value": 242043056
          }
        },
        "0ba1d05142264f53909608e323b33776": {
          "model_module": "@jupyter-widgets/controls",
          "model_name": "HTMLModel",
          "model_module_version": "1.5.0",
          "state": {
            "_dom_classes": [],
            "_model_module": "@jupyter-widgets/controls",
            "_model_module_version": "1.5.0",
            "_model_name": "HTMLModel",
            "_view_count": null,
            "_view_module": "@jupyter-widgets/controls",
            "_view_module_version": "1.5.0",
            "_view_name": "HTMLView",
            "description": "",
            "description_tooltip": null,
            "layout": "IPY_MODEL_9c55cde555f84452b86c7a267a00ce12",
            "placeholder": "​",
            "style": "IPY_MODEL_1508c73dc4d34386a103cd9602fad108",
            "value": " 242M/242M [00:01&lt;00:00, 154MB/s]"
          }
        },
        "bbb8cc48623d4328a4064cd4e365ed52": {
          "model_module": "@jupyter-widgets/base",
          "model_name": "LayoutModel",
          "model_module_version": "1.2.0",
          "state": {
            "_model_module": "@jupyter-widgets/base",
            "_model_module_version": "1.2.0",
            "_model_name": "LayoutModel",
            "_view_count": null,
            "_view_module": "@jupyter-widgets/base",
            "_view_module_version": "1.2.0",
            "_view_name": "LayoutView",
            "align_content": null,
            "align_items": null,
            "align_self": null,
            "border": null,
            "bottom": null,
            "display": null,
            "flex": null,
            "flex_flow": null,
            "grid_area": null,
            "grid_auto_columns": null,
            "grid_auto_flow": null,
            "grid_auto_rows": null,
            "grid_column": null,
            "grid_gap": null,
            "grid_row": null,
            "grid_template_areas": null,
            "grid_template_columns": null,
            "grid_template_rows": null,
            "height": null,
            "justify_content": null,
            "justify_items": null,
            "left": null,
            "margin": null,
            "max_height": null,
            "max_width": null,
            "min_height": null,
            "min_width": null,
            "object_fit": null,
            "object_position": null,
            "order": null,
            "overflow": null,
            "overflow_x": null,
            "overflow_y": null,
            "padding": null,
            "right": null,
            "top": null,
            "visibility": null,
            "width": null
          }
        },
        "747960b01d914c4085953606d6af072c": {
          "model_module": "@jupyter-widgets/base",
          "model_name": "LayoutModel",
          "model_module_version": "1.2.0",
          "state": {
            "_model_module": "@jupyter-widgets/base",
            "_model_module_version": "1.2.0",
            "_model_name": "LayoutModel",
            "_view_count": null,
            "_view_module": "@jupyter-widgets/base",
            "_view_module_version": "1.2.0",
            "_view_name": "LayoutView",
            "align_content": null,
            "align_items": null,
            "align_self": null,
            "border": null,
            "bottom": null,
            "display": null,
            "flex": null,
            "flex_flow": null,
            "grid_area": null,
            "grid_auto_columns": null,
            "grid_auto_flow": null,
            "grid_auto_rows": null,
            "grid_column": null,
            "grid_gap": null,
            "grid_row": null,
            "grid_template_areas": null,
            "grid_template_columns": null,
            "grid_template_rows": null,
            "height": null,
            "justify_content": null,
            "justify_items": null,
            "left": null,
            "margin": null,
            "max_height": null,
            "max_width": null,
            "min_height": null,
            "min_width": null,
            "object_fit": null,
            "object_position": null,
            "order": null,
            "overflow": null,
            "overflow_x": null,
            "overflow_y": null,
            "padding": null,
            "right": null,
            "top": null,
            "visibility": null,
            "width": null
          }
        },
        "a0e7f20da03d4b5bb8eda9f37feded90": {
          "model_module": "@jupyter-widgets/controls",
          "model_name": "DescriptionStyleModel",
          "model_module_version": "1.5.0",
          "state": {
            "_model_module": "@jupyter-widgets/controls",
            "_model_module_version": "1.5.0",
            "_model_name": "DescriptionStyleModel",
            "_view_count": null,
            "_view_module": "@jupyter-widgets/base",
            "_view_module_version": "1.2.0",
            "_view_name": "StyleView",
            "description_width": ""
          }
        },
        "d7125ed3f7e649b8befcc6b6399f9439": {
          "model_module": "@jupyter-widgets/base",
          "model_name": "LayoutModel",
          "model_module_version": "1.2.0",
          "state": {
            "_model_module": "@jupyter-widgets/base",
            "_model_module_version": "1.2.0",
            "_model_name": "LayoutModel",
            "_view_count": null,
            "_view_module": "@jupyter-widgets/base",
            "_view_module_version": "1.2.0",
            "_view_name": "LayoutView",
            "align_content": null,
            "align_items": null,
            "align_self": null,
            "border": null,
            "bottom": null,
            "display": null,
            "flex": null,
            "flex_flow": null,
            "grid_area": null,
            "grid_auto_columns": null,
            "grid_auto_flow": null,
            "grid_auto_rows": null,
            "grid_column": null,
            "grid_gap": null,
            "grid_row": null,
            "grid_template_areas": null,
            "grid_template_columns": null,
            "grid_template_rows": null,
            "height": null,
            "justify_content": null,
            "justify_items": null,
            "left": null,
            "margin": null,
            "max_height": null,
            "max_width": null,
            "min_height": null,
            "min_width": null,
            "object_fit": null,
            "object_position": null,
            "order": null,
            "overflow": null,
            "overflow_x": null,
            "overflow_y": null,
            "padding": null,
            "right": null,
            "top": null,
            "visibility": null,
            "width": null
          }
        },
        "51aaf53bde8b46f7b6ff2600ce77fa6b": {
          "model_module": "@jupyter-widgets/controls",
          "model_name": "ProgressStyleModel",
          "model_module_version": "1.5.0",
          "state": {
            "_model_module": "@jupyter-widgets/controls",
            "_model_module_version": "1.5.0",
            "_model_name": "ProgressStyleModel",
            "_view_count": null,
            "_view_module": "@jupyter-widgets/base",
            "_view_module_version": "1.2.0",
            "_view_name": "StyleView",
            "bar_color": null,
            "description_width": ""
          }
        },
        "9c55cde555f84452b86c7a267a00ce12": {
          "model_module": "@jupyter-widgets/base",
          "model_name": "LayoutModel",
          "model_module_version": "1.2.0",
          "state": {
            "_model_module": "@jupyter-widgets/base",
            "_model_module_version": "1.2.0",
            "_model_name": "LayoutModel",
            "_view_count": null,
            "_view_module": "@jupyter-widgets/base",
            "_view_module_version": "1.2.0",
            "_view_name": "LayoutView",
            "align_content": null,
            "align_items": null,
            "align_self": null,
            "border": null,
            "bottom": null,
            "display": null,
            "flex": null,
            "flex_flow": null,
            "grid_area": null,
            "grid_auto_columns": null,
            "grid_auto_flow": null,
            "grid_auto_rows": null,
            "grid_column": null,
            "grid_gap": null,
            "grid_row": null,
            "grid_template_areas": null,
            "grid_template_columns": null,
            "grid_template_rows": null,
            "height": null,
            "justify_content": null,
            "justify_items": null,
            "left": null,
            "margin": null,
            "max_height": null,
            "max_width": null,
            "min_height": null,
            "min_width": null,
            "object_fit": null,
            "object_position": null,
            "order": null,
            "overflow": null,
            "overflow_x": null,
            "overflow_y": null,
            "padding": null,
            "right": null,
            "top": null,
            "visibility": null,
            "width": null
          }
        },
        "1508c73dc4d34386a103cd9602fad108": {
          "model_module": "@jupyter-widgets/controls",
          "model_name": "DescriptionStyleModel",
          "model_module_version": "1.5.0",
          "state": {
            "_model_module": "@jupyter-widgets/controls",
            "_model_module_version": "1.5.0",
            "_model_name": "DescriptionStyleModel",
            "_view_count": null,
            "_view_module": "@jupyter-widgets/base",
            "_view_module_version": "1.2.0",
            "_view_name": "StyleView",
            "description_width": ""
          }
        },
        "9173e6a5b8134d059ef80ab19dedf668": {
          "model_module": "@jupyter-widgets/controls",
          "model_name": "HBoxModel",
          "model_module_version": "1.5.0",
          "state": {
            "_dom_classes": [],
            "_model_module": "@jupyter-widgets/controls",
            "_model_module_version": "1.5.0",
            "_model_name": "HBoxModel",
            "_view_count": null,
            "_view_module": "@jupyter-widgets/controls",
            "_view_module_version": "1.5.0",
            "_view_name": "HBoxView",
            "box_style": "",
            "children": [
              "IPY_MODEL_b76a62d0baa04e43ae0efd412b5186cb",
              "IPY_MODEL_8a338fe2a5a349ab8f6fead6111906b9",
              "IPY_MODEL_f9b8ed3b85db4d5f84c59f613b11a894"
            ],
            "layout": "IPY_MODEL_c346b0e90e1d45be91997790e70dc9b0"
          }
        },
        "b76a62d0baa04e43ae0efd412b5186cb": {
          "model_module": "@jupyter-widgets/controls",
          "model_name": "HTMLModel",
          "model_module_version": "1.5.0",
          "state": {
            "_dom_classes": [],
            "_model_module": "@jupyter-widgets/controls",
            "_model_module_version": "1.5.0",
            "_model_name": "HTMLModel",
            "_view_count": null,
            "_view_module": "@jupyter-widgets/controls",
            "_view_module_version": "1.5.0",
            "_view_name": "HTMLView",
            "description": "",
            "description_tooltip": null,
            "layout": "IPY_MODEL_9f1f8d63611142f8a92029688931a60d",
            "placeholder": "​",
            "style": "IPY_MODEL_55917115f7254e9ea39957b674891ab2",
            "value": "generation_config.json: 100%"
          }
        },
        "8a338fe2a5a349ab8f6fead6111906b9": {
          "model_module": "@jupyter-widgets/controls",
          "model_name": "FloatProgressModel",
          "model_module_version": "1.5.0",
          "state": {
            "_dom_classes": [],
            "_model_module": "@jupyter-widgets/controls",
            "_model_module_version": "1.5.0",
            "_model_name": "FloatProgressModel",
            "_view_count": null,
            "_view_module": "@jupyter-widgets/controls",
            "_view_module_version": "1.5.0",
            "_view_name": "ProgressView",
            "bar_style": "success",
            "description": "",
            "description_tooltip": null,
            "layout": "IPY_MODEL_1aa88bf0acde44378d5bb44facabd14f",
            "max": 147,
            "min": 0,
            "orientation": "horizontal",
            "style": "IPY_MODEL_daebe4d43cfa42b9b5d039f5584a83b6",
            "value": 147
          }
        },
        "f9b8ed3b85db4d5f84c59f613b11a894": {
          "model_module": "@jupyter-widgets/controls",
          "model_name": "HTMLModel",
          "model_module_version": "1.5.0",
          "state": {
            "_dom_classes": [],
            "_model_module": "@jupyter-widgets/controls",
            "_model_module_version": "1.5.0",
            "_model_name": "HTMLModel",
            "_view_count": null,
            "_view_module": "@jupyter-widgets/controls",
            "_view_module_version": "1.5.0",
            "_view_name": "HTMLView",
            "description": "",
            "description_tooltip": null,
            "layout": "IPY_MODEL_99c37e933d7149a48040765ef2d0579a",
            "placeholder": "​",
            "style": "IPY_MODEL_16d1c6af1b07448e86fb781aae52ee96",
            "value": " 147/147 [00:00&lt;00:00, 6.37kB/s]"
          }
        },
        "c346b0e90e1d45be91997790e70dc9b0": {
          "model_module": "@jupyter-widgets/base",
          "model_name": "LayoutModel",
          "model_module_version": "1.2.0",
          "state": {
            "_model_module": "@jupyter-widgets/base",
            "_model_module_version": "1.2.0",
            "_model_name": "LayoutModel",
            "_view_count": null,
            "_view_module": "@jupyter-widgets/base",
            "_view_module_version": "1.2.0",
            "_view_name": "LayoutView",
            "align_content": null,
            "align_items": null,
            "align_self": null,
            "border": null,
            "bottom": null,
            "display": null,
            "flex": null,
            "flex_flow": null,
            "grid_area": null,
            "grid_auto_columns": null,
            "grid_auto_flow": null,
            "grid_auto_rows": null,
            "grid_column": null,
            "grid_gap": null,
            "grid_row": null,
            "grid_template_areas": null,
            "grid_template_columns": null,
            "grid_template_rows": null,
            "height": null,
            "justify_content": null,
            "justify_items": null,
            "left": null,
            "margin": null,
            "max_height": null,
            "max_width": null,
            "min_height": null,
            "min_width": null,
            "object_fit": null,
            "object_position": null,
            "order": null,
            "overflow": null,
            "overflow_x": null,
            "overflow_y": null,
            "padding": null,
            "right": null,
            "top": null,
            "visibility": null,
            "width": null
          }
        },
        "9f1f8d63611142f8a92029688931a60d": {
          "model_module": "@jupyter-widgets/base",
          "model_name": "LayoutModel",
          "model_module_version": "1.2.0",
          "state": {
            "_model_module": "@jupyter-widgets/base",
            "_model_module_version": "1.2.0",
            "_model_name": "LayoutModel",
            "_view_count": null,
            "_view_module": "@jupyter-widgets/base",
            "_view_module_version": "1.2.0",
            "_view_name": "LayoutView",
            "align_content": null,
            "align_items": null,
            "align_self": null,
            "border": null,
            "bottom": null,
            "display": null,
            "flex": null,
            "flex_flow": null,
            "grid_area": null,
            "grid_auto_columns": null,
            "grid_auto_flow": null,
            "grid_auto_rows": null,
            "grid_column": null,
            "grid_gap": null,
            "grid_row": null,
            "grid_template_areas": null,
            "grid_template_columns": null,
            "grid_template_rows": null,
            "height": null,
            "justify_content": null,
            "justify_items": null,
            "left": null,
            "margin": null,
            "max_height": null,
            "max_width": null,
            "min_height": null,
            "min_width": null,
            "object_fit": null,
            "object_position": null,
            "order": null,
            "overflow": null,
            "overflow_x": null,
            "overflow_y": null,
            "padding": null,
            "right": null,
            "top": null,
            "visibility": null,
            "width": null
          }
        },
        "55917115f7254e9ea39957b674891ab2": {
          "model_module": "@jupyter-widgets/controls",
          "model_name": "DescriptionStyleModel",
          "model_module_version": "1.5.0",
          "state": {
            "_model_module": "@jupyter-widgets/controls",
            "_model_module_version": "1.5.0",
            "_model_name": "DescriptionStyleModel",
            "_view_count": null,
            "_view_module": "@jupyter-widgets/base",
            "_view_module_version": "1.2.0",
            "_view_name": "StyleView",
            "description_width": ""
          }
        },
        "1aa88bf0acde44378d5bb44facabd14f": {
          "model_module": "@jupyter-widgets/base",
          "model_name": "LayoutModel",
          "model_module_version": "1.2.0",
          "state": {
            "_model_module": "@jupyter-widgets/base",
            "_model_module_version": "1.2.0",
            "_model_name": "LayoutModel",
            "_view_count": null,
            "_view_module": "@jupyter-widgets/base",
            "_view_module_version": "1.2.0",
            "_view_name": "LayoutView",
            "align_content": null,
            "align_items": null,
            "align_self": null,
            "border": null,
            "bottom": null,
            "display": null,
            "flex": null,
            "flex_flow": null,
            "grid_area": null,
            "grid_auto_columns": null,
            "grid_auto_flow": null,
            "grid_auto_rows": null,
            "grid_column": null,
            "grid_gap": null,
            "grid_row": null,
            "grid_template_areas": null,
            "grid_template_columns": null,
            "grid_template_rows": null,
            "height": null,
            "justify_content": null,
            "justify_items": null,
            "left": null,
            "margin": null,
            "max_height": null,
            "max_width": null,
            "min_height": null,
            "min_width": null,
            "object_fit": null,
            "object_position": null,
            "order": null,
            "overflow": null,
            "overflow_x": null,
            "overflow_y": null,
            "padding": null,
            "right": null,
            "top": null,
            "visibility": null,
            "width": null
          }
        },
        "daebe4d43cfa42b9b5d039f5584a83b6": {
          "model_module": "@jupyter-widgets/controls",
          "model_name": "ProgressStyleModel",
          "model_module_version": "1.5.0",
          "state": {
            "_model_module": "@jupyter-widgets/controls",
            "_model_module_version": "1.5.0",
            "_model_name": "ProgressStyleModel",
            "_view_count": null,
            "_view_module": "@jupyter-widgets/base",
            "_view_module_version": "1.2.0",
            "_view_name": "StyleView",
            "bar_color": null,
            "description_width": ""
          }
        },
        "99c37e933d7149a48040765ef2d0579a": {
          "model_module": "@jupyter-widgets/base",
          "model_name": "LayoutModel",
          "model_module_version": "1.2.0",
          "state": {
            "_model_module": "@jupyter-widgets/base",
            "_model_module_version": "1.2.0",
            "_model_name": "LayoutModel",
            "_view_count": null,
            "_view_module": "@jupyter-widgets/base",
            "_view_module_version": "1.2.0",
            "_view_name": "LayoutView",
            "align_content": null,
            "align_items": null,
            "align_self": null,
            "border": null,
            "bottom": null,
            "display": null,
            "flex": null,
            "flex_flow": null,
            "grid_area": null,
            "grid_auto_columns": null,
            "grid_auto_flow": null,
            "grid_auto_rows": null,
            "grid_column": null,
            "grid_gap": null,
            "grid_row": null,
            "grid_template_areas": null,
            "grid_template_columns": null,
            "grid_template_rows": null,
            "height": null,
            "justify_content": null,
            "justify_items": null,
            "left": null,
            "margin": null,
            "max_height": null,
            "max_width": null,
            "min_height": null,
            "min_width": null,
            "object_fit": null,
            "object_position": null,
            "order": null,
            "overflow": null,
            "overflow_x": null,
            "overflow_y": null,
            "padding": null,
            "right": null,
            "top": null,
            "visibility": null,
            "width": null
          }
        },
        "16d1c6af1b07448e86fb781aae52ee96": {
          "model_module": "@jupyter-widgets/controls",
          "model_name": "DescriptionStyleModel",
          "model_module_version": "1.5.0",
          "state": {
            "_model_module": "@jupyter-widgets/controls",
            "_model_module_version": "1.5.0",
            "_model_name": "DescriptionStyleModel",
            "_view_count": null,
            "_view_module": "@jupyter-widgets/base",
            "_view_module_version": "1.2.0",
            "_view_name": "StyleView",
            "description_width": ""
          }
        }
      }
    },
    "accelerator": "GPU"
  },
  "cells": [
    {
      "cell_type": "markdown",
      "metadata": {
        "id": "view-in-github",
        "colab_type": "text"
      },
      "source": [
        "<a href=\"https://colab.research.google.com/github/gawankarsanket/dswithchirag_assignments/blob/main/Assignment_Transformer_T5_Tuning_for_summerization_.ipynb\" target=\"_parent\"><img src=\"https://colab.research.google.com/assets/colab-badge.svg\" alt=\"Open In Colab\"/></a>"
      ]
    },
    {
      "cell_type": "markdown",
      "source": [
        "#T5\n",
        "[\n",
        "https://machine-learning-made-simple.medium.com/what-are-the-different-types-of-transformers-in-ai-5085275664e8](https://)\n",
        "\n",
        "\n",
        "There are three broad categories based on their training methodologies\n",
        "\n",
        "1. Auto -Regressive  (GPT)\n",
        "2. Auto-Encoding (BERT)\n",
        "3. equence-to-Sequence (BART/T5)\n",
        "\n",
        "T5 is encoder-ecoder model ie sequence to sequence.\n",
        "\n",
        "Sequence-to-Sequence\n",
        "\n",
        "Sequence-to-sequence models are the OG Transformers.\n",
        "The approach is pretty straightforward, the input sequence in encoder, forms an embedding process to extract the features  and pass it further to decoder.\n",
        "These were primarily designed for translation,summerisation tasks, due to their excellence at mapping sequences between languages.\n",
        "\n",
        "\n",
        "![t5 concept.PNG](data:image/png;base64,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)\n",
        "\n",
        "\n",
        "\n",
        "\n",
        "With these architectures, the focus is on taking and mapping sequences to each other. This makes them ideal for translation-related tasks."
      ],
      "metadata": {
        "id": "WPTL2NGORdJq"
      }
    },
    {
      "cell_type": "markdown",
      "source": [
        "# T5 tuned for summerization\n",
        "\n",
        "making use of pretrained T5 model for summerisation, train it for our input data and get the output with increased accuracy"
      ],
      "metadata": {
        "id": "B59wRU9IMP8w"
      }
    },
    {
      "cell_type": "markdown",
      "source": [
        "Some Reference Link : https://learnopencv.com/fine-tuning-t5/#results\n",
        "\n",
        "Dataset Link : https://www.kaggle.com/datasets/sunnysai12345/news-summary/code"
      ],
      "metadata": {
        "id": "9tY3prpzdXyb"
      }
    },
    {
      "cell_type": "markdown",
      "source": [
        "## Install necessary Libraries"
      ],
      "metadata": {
        "id": "DZAeL-l_ddO7"
      }
    },
    {
      "cell_type": "code",
      "source": [
        "!pip install transformers -q  #this gives acess to HungginFace Transoformer based models\n",
        "!pip install datasets -q    #This enables us to download dataset\n",
        "!pip install tensorboard -q\n",
        "!pip install sentencepiece -q    # text tokenization\n",
        "!pip install accelerate -q  #automates the training of Transformers across different hardware types and also handles multi-GPU training."
      ],
      "metadata": {
        "id": "9MY8pALAzQnv",
        "colab": {
          "base_uri": "https://localhost:8080/"
        },
        "outputId": "f8505470-2d69-4511-f975-df4d21486461"
      },
      "execution_count": 1,
      "outputs": [
        {
          "output_type": "stream",
          "name": "stdout",
          "text": [
            "\u001b[2K     \u001b[90m━━━━━━━━━━━━━━━━━━━━━━━━━━━━━━━━━━━━━━━━\u001b[0m \u001b[32m542.0/542.0 kB\u001b[0m \u001b[31m4.0 MB/s\u001b[0m eta \u001b[36m0:00:00\u001b[0m\n",
            "\u001b[2K     \u001b[90m━━━━━━━━━━━━━━━━━━━━━━━━━━━━━━━━━━━━━━━━\u001b[0m \u001b[32m116.3/116.3 kB\u001b[0m \u001b[31m14.8 MB/s\u001b[0m eta \u001b[36m0:00:00\u001b[0m\n",
            "\u001b[2K     \u001b[90m━━━━━━━━━━━━━━━━━━━━━━━━━━━━━━━━━━━━━━━━\u001b[0m \u001b[32m194.1/194.1 kB\u001b[0m \u001b[31m21.0 MB/s\u001b[0m eta \u001b[36m0:00:00\u001b[0m\n",
            "\u001b[2K     \u001b[90m━━━━━━━━━━━━━━━━━━━━━━━━━━━━━━━━━━━━━━━━\u001b[0m \u001b[32m134.8/134.8 kB\u001b[0m \u001b[31m17.0 MB/s\u001b[0m eta \u001b[36m0:00:00\u001b[0m\n",
            "\u001b[2K     \u001b[90m━━━━━━━━━━━━━━━━━━━━━━━━━━━━━━━━━━━━━━━━\u001b[0m \u001b[32m388.9/388.9 kB\u001b[0m \u001b[31m26.6 MB/s\u001b[0m eta \u001b[36m0:00:00\u001b[0m\n",
            "\u001b[2K     \u001b[90m━━━━━━━━━━━━━━━━━━━━━━━━━━━━━━━━━━━━━━━━\u001b[0m \u001b[32m297.6/297.6 kB\u001b[0m \u001b[31m2.7 MB/s\u001b[0m eta \u001b[36m0:00:00\u001b[0m\n",
            "\u001b[?25h"
          ]
        }
      ]
    },
    {
      "cell_type": "code",
      "source": [
        "import pandas as pd\n",
        "import numpy as np\n",
        "import torch\n",
        "from datasets import load_dataset\n",
        "from transformers import T5Tokenizer, T5ForConditionalGeneration, TrainingArguments,Trainer"
      ],
      "metadata": {
        "id": "LuxwgWkv0-q9"
      },
      "execution_count": 2,
      "outputs": []
    },
    {
      "cell_type": "markdown",
      "source": [
        "## Load the dataset"
      ],
      "metadata": {
        "id": "VzCXpE-73xXS"
      }
    },
    {
      "cell_type": "code",
      "source": [
        "df=pd.read_csv(\"/content/news_summary.csv\",encoding='latin-1') #Encoding picked up trial n error basis.\n",
        "df.head(2)\n"
      ],
      "metadata": {
        "colab": {
          "base_uri": "https://localhost:8080/",
          "height": 147
        },
        "id": "z_fzFDY83wSE",
        "outputId": "7eafc015-c819-48bf-ef02-25407af1bfc1"
      },
      "execution_count": 3,
      "outputs": [
        {
          "output_type": "execute_result",
          "data": {
            "text/plain": [
              "         author                  date  \\\n",
              "0  Chhavi Tyagi  03 Aug 2017,Thursday   \n",
              "1   Daisy Mowke  03 Aug 2017,Thursday   \n",
              "\n",
              "                                           headlines  \\\n",
              "0  Daman & Diu revokes mandatory Rakshabandhan in...   \n",
              "1  Malaika slams user who trolled her for 'divorc...   \n",
              "\n",
              "                                           read_more  \\\n",
              "0  http://www.hindustantimes.com/india-news/raksh...   \n",
              "1  http://www.hindustantimes.com/bollywood/malaik...   \n",
              "\n",
              "                                                text  \\\n",
              "0  The Administration of Union Territory Daman an...   \n",
              "1  Malaika Arora slammed an Instagram user who tr...   \n",
              "\n",
              "                                               ctext  \n",
              "0  The Daman and Diu administration on Wednesday ...  \n",
              "1  From her special numbers to TV?appearances, Bo...  "
            ],
            "text/html": [
              "\n",
              "  <div id=\"df-f22b2069-10e2-4371-a2e2-eb55ae9b090c\" class=\"colab-df-container\">\n",
              "    <div>\n",
              "<style scoped>\n",
              "    .dataframe tbody tr th:only-of-type {\n",
              "        vertical-align: middle;\n",
              "    }\n",
              "\n",
              "    .dataframe tbody tr th {\n",
              "        vertical-align: top;\n",
              "    }\n",
              "\n",
              "    .dataframe thead th {\n",
              "        text-align: right;\n",
              "    }\n",
              "</style>\n",
              "<table border=\"1\" class=\"dataframe\">\n",
              "  <thead>\n",
              "    <tr style=\"text-align: right;\">\n",
              "      <th></th>\n",
              "      <th>author</th>\n",
              "      <th>date</th>\n",
              "      <th>headlines</th>\n",
              "      <th>read_more</th>\n",
              "      <th>text</th>\n",
              "      <th>ctext</th>\n",
              "    </tr>\n",
              "  </thead>\n",
              "  <tbody>\n",
              "    <tr>\n",
              "      <th>0</th>\n",
              "      <td>Chhavi Tyagi</td>\n",
              "      <td>03 Aug 2017,Thursday</td>\n",
              "      <td>Daman &amp; Diu revokes mandatory Rakshabandhan in...</td>\n",
              "      <td>http://www.hindustantimes.com/india-news/raksh...</td>\n",
              "      <td>The Administration of Union Territory Daman an...</td>\n",
              "      <td>The Daman and Diu administration on Wednesday ...</td>\n",
              "    </tr>\n",
              "    <tr>\n",
              "      <th>1</th>\n",
              "      <td>Daisy Mowke</td>\n",
              "      <td>03 Aug 2017,Thursday</td>\n",
              "      <td>Malaika slams user who trolled her for 'divorc...</td>\n",
              "      <td>http://www.hindustantimes.com/bollywood/malaik...</td>\n",
              "      <td>Malaika Arora slammed an Instagram user who tr...</td>\n",
              "      <td>From her special numbers to TV?appearances, Bo...</td>\n",
              "    </tr>\n",
              "  </tbody>\n",
              "</table>\n",
              "</div>\n",
              "    <div class=\"colab-df-buttons\">\n",
              "\n",
              "  <div class=\"colab-df-container\">\n",
              "    <button class=\"colab-df-convert\" onclick=\"convertToInteractive('df-f22b2069-10e2-4371-a2e2-eb55ae9b090c')\"\n",
              "            title=\"Convert this dataframe to an interactive table.\"\n",
              "            style=\"display:none;\">\n",
              "\n",
              "  <svg xmlns=\"http://www.w3.org/2000/svg\" height=\"24px\" viewBox=\"0 -960 960 960\">\n",
              "    <path d=\"M120-120v-720h720v720H120Zm60-500h600v-160H180v160Zm220 220h160v-160H400v160Zm0 220h160v-160H400v160ZM180-400h160v-160H180v160Zm440 0h160v-160H620v160ZM180-180h160v-160H180v160Zm440 0h160v-160H620v160Z\"/>\n",
              "  </svg>\n",
              "    </button>\n",
              "\n",
              "  <style>\n",
              "    .colab-df-container {\n",
              "      display:flex;\n",
              "      gap: 12px;\n",
              "    }\n",
              "\n",
              "    .colab-df-convert {\n",
              "      background-color: #E8F0FE;\n",
              "      border: none;\n",
              "      border-radius: 50%;\n",
              "      cursor: pointer;\n",
              "      display: none;\n",
              "      fill: #1967D2;\n",
              "      height: 32px;\n",
              "      padding: 0 0 0 0;\n",
              "      width: 32px;\n",
              "    }\n",
              "\n",
              "    .colab-df-convert:hover {\n",
              "      background-color: #E2EBFA;\n",
              "      box-shadow: 0px 1px 2px rgba(60, 64, 67, 0.3), 0px 1px 3px 1px rgba(60, 64, 67, 0.15);\n",
              "      fill: #174EA6;\n",
              "    }\n",
              "\n",
              "    .colab-df-buttons div {\n",
              "      margin-bottom: 4px;\n",
              "    }\n",
              "\n",
              "    [theme=dark] .colab-df-convert {\n",
              "      background-color: #3B4455;\n",
              "      fill: #D2E3FC;\n",
              "    }\n",
              "\n",
              "    [theme=dark] .colab-df-convert:hover {\n",
              "      background-color: #434B5C;\n",
              "      box-shadow: 0px 1px 3px 1px rgba(0, 0, 0, 0.15);\n",
              "      filter: drop-shadow(0px 1px 2px rgba(0, 0, 0, 0.3));\n",
              "      fill: #FFFFFF;\n",
              "    }\n",
              "  </style>\n",
              "\n",
              "    <script>\n",
              "      const buttonEl =\n",
              "        document.querySelector('#df-f22b2069-10e2-4371-a2e2-eb55ae9b090c button.colab-df-convert');\n",
              "      buttonEl.style.display =\n",
              "        google.colab.kernel.accessAllowed ? 'block' : 'none';\n",
              "\n",
              "      async function convertToInteractive(key) {\n",
              "        const element = document.querySelector('#df-f22b2069-10e2-4371-a2e2-eb55ae9b090c');\n",
              "        const dataTable =\n",
              "          await google.colab.kernel.invokeFunction('convertToInteractive',\n",
              "                                                    [key], {});\n",
              "        if (!dataTable) return;\n",
              "\n",
              "        const docLinkHtml = 'Like what you see? Visit the ' +\n",
              "          '<a target=\"_blank\" href=https://colab.research.google.com/notebooks/data_table.ipynb>data table notebook</a>'\n",
              "          + ' to learn more about interactive tables.';\n",
              "        element.innerHTML = '';\n",
              "        dataTable['output_type'] = 'display_data';\n",
              "        await google.colab.output.renderOutput(dataTable, element);\n",
              "        const docLink = document.createElement('div');\n",
              "        docLink.innerHTML = docLinkHtml;\n",
              "        element.appendChild(docLink);\n",
              "      }\n",
              "    </script>\n",
              "  </div>\n",
              "\n",
              "\n",
              "<div id=\"df-62243e34-a7b9-4a92-8237-211bd326a200\">\n",
              "  <button class=\"colab-df-quickchart\" onclick=\"quickchart('df-62243e34-a7b9-4a92-8237-211bd326a200')\"\n",
              "            title=\"Suggest charts\"\n",
              "            style=\"display:none;\">\n",
              "\n",
              "<svg xmlns=\"http://www.w3.org/2000/svg\" height=\"24px\"viewBox=\"0 0 24 24\"\n",
              "     width=\"24px\">\n",
              "    <g>\n",
              "        <path d=\"M19 3H5c-1.1 0-2 .9-2 2v14c0 1.1.9 2 2 2h14c1.1 0 2-.9 2-2V5c0-1.1-.9-2-2-2zM9 17H7v-7h2v7zm4 0h-2V7h2v10zm4 0h-2v-4h2v4z\"/>\n",
              "    </g>\n",
              "</svg>\n",
              "  </button>\n",
              "\n",
              "<style>\n",
              "  .colab-df-quickchart {\n",
              "      --bg-color: #E8F0FE;\n",
              "      --fill-color: #1967D2;\n",
              "      --hover-bg-color: #E2EBFA;\n",
              "      --hover-fill-color: #174EA6;\n",
              "      --disabled-fill-color: #AAA;\n",
              "      --disabled-bg-color: #DDD;\n",
              "  }\n",
              "\n",
              "  [theme=dark] .colab-df-quickchart {\n",
              "      --bg-color: #3B4455;\n",
              "      --fill-color: #D2E3FC;\n",
              "      --hover-bg-color: #434B5C;\n",
              "      --hover-fill-color: #FFFFFF;\n",
              "      --disabled-bg-color: #3B4455;\n",
              "      --disabled-fill-color: #666;\n",
              "  }\n",
              "\n",
              "  .colab-df-quickchart {\n",
              "    background-color: var(--bg-color);\n",
              "    border: none;\n",
              "    border-radius: 50%;\n",
              "    cursor: pointer;\n",
              "    display: none;\n",
              "    fill: var(--fill-color);\n",
              "    height: 32px;\n",
              "    padding: 0;\n",
              "    width: 32px;\n",
              "  }\n",
              "\n",
              "  .colab-df-quickchart:hover {\n",
              "    background-color: var(--hover-bg-color);\n",
              "    box-shadow: 0 1px 2px rgba(60, 64, 67, 0.3), 0 1px 3px 1px rgba(60, 64, 67, 0.15);\n",
              "    fill: var(--button-hover-fill-color);\n",
              "  }\n",
              "\n",
              "  .colab-df-quickchart-complete:disabled,\n",
              "  .colab-df-quickchart-complete:disabled:hover {\n",
              "    background-color: var(--disabled-bg-color);\n",
              "    fill: var(--disabled-fill-color);\n",
              "    box-shadow: none;\n",
              "  }\n",
              "\n",
              "  .colab-df-spinner {\n",
              "    border: 2px solid var(--fill-color);\n",
              "    border-color: transparent;\n",
              "    border-bottom-color: var(--fill-color);\n",
              "    animation:\n",
              "      spin 1s steps(1) infinite;\n",
              "  }\n",
              "\n",
              "  @keyframes spin {\n",
              "    0% {\n",
              "      border-color: transparent;\n",
              "      border-bottom-color: var(--fill-color);\n",
              "      border-left-color: var(--fill-color);\n",
              "    }\n",
              "    20% {\n",
              "      border-color: transparent;\n",
              "      border-left-color: var(--fill-color);\n",
              "      border-top-color: var(--fill-color);\n",
              "    }\n",
              "    30% {\n",
              "      border-color: transparent;\n",
              "      border-left-color: var(--fill-color);\n",
              "      border-top-color: var(--fill-color);\n",
              "      border-right-color: var(--fill-color);\n",
              "    }\n",
              "    40% {\n",
              "      border-color: transparent;\n",
              "      border-right-color: var(--fill-color);\n",
              "      border-top-color: var(--fill-color);\n",
              "    }\n",
              "    60% {\n",
              "      border-color: transparent;\n",
              "      border-right-color: var(--fill-color);\n",
              "    }\n",
              "    80% {\n",
              "      border-color: transparent;\n",
              "      border-right-color: var(--fill-color);\n",
              "      border-bottom-color: var(--fill-color);\n",
              "    }\n",
              "    90% {\n",
              "      border-color: transparent;\n",
              "      border-bottom-color: var(--fill-color);\n",
              "    }\n",
              "  }\n",
              "</style>\n",
              "\n",
              "  <script>\n",
              "    async function quickchart(key) {\n",
              "      const quickchartButtonEl =\n",
              "        document.querySelector('#' + key + ' button');\n",
              "      quickchartButtonEl.disabled = true;  // To prevent multiple clicks.\n",
              "      quickchartButtonEl.classList.add('colab-df-spinner');\n",
              "      try {\n",
              "        const charts = await google.colab.kernel.invokeFunction(\n",
              "            'suggestCharts', [key], {});\n",
              "      } catch (error) {\n",
              "        console.error('Error during call to suggestCharts:', error);\n",
              "      }\n",
              "      quickchartButtonEl.classList.remove('colab-df-spinner');\n",
              "      quickchartButtonEl.classList.add('colab-df-quickchart-complete');\n",
              "    }\n",
              "    (() => {\n",
              "      let quickchartButtonEl =\n",
              "        document.querySelector('#df-62243e34-a7b9-4a92-8237-211bd326a200 button');\n",
              "      quickchartButtonEl.style.display =\n",
              "        google.colab.kernel.accessAllowed ? 'block' : 'none';\n",
              "    })();\n",
              "  </script>\n",
              "</div>\n",
              "\n",
              "    </div>\n",
              "  </div>\n"
            ],
            "application/vnd.google.colaboratory.intrinsic+json": {
              "type": "dataframe",
              "variable_name": "df",
              "summary": "{\n  \"name\": \"df\",\n  \"rows\": 4514,\n  \"fields\": [\n    {\n      \"column\": \"author\",\n      \"properties\": {\n        \"dtype\": \"category\",\n        \"num_unique_values\": 45,\n        \"samples\": [\n          \"Animesh Choudhary\",\n          \"Swarnim Bagre\",\n          \"Rini Sinha\"\n        ],\n        \"semantic_type\": \"\",\n        \"description\": \"\"\n      }\n    },\n    {\n      \"column\": \"date\",\n      \"properties\": {\n        \"dtype\": \"object\",\n        \"num_unique_values\": 240,\n        \"samples\": [\n          \"16 Feb 2017,Thursday\",\n          \"28 Jul 2017,Friday\",\n          \"09 Dec 2016,Friday\"\n        ],\n        \"semantic_type\": \"\",\n        \"description\": \"\"\n      }\n    },\n    {\n      \"column\": \"headlines\",\n      \"properties\": {\n        \"dtype\": \"string\",\n        \"num_unique_values\": 4514,\n        \"samples\": [\n          \"South Delhi restaurants to allow public to use toilets at ?5\",\n          \"China bans Bieber from performing over bad behaviour\",\n          \"Pakistan accuses India of targeting CPEC\"\n        ],\n        \"semantic_type\": \"\",\n        \"description\": \"\"\n      }\n    },\n    {\n      \"column\": \"read_more\",\n      \"properties\": {\n        \"dtype\": \"string\",\n        \"num_unique_values\": 4461,\n        \"samples\": [\n          \"http://www.hindustantimes.com/india-news/rjd-leader-close-to-shahabuddin-shot-dead-in-bihar-s-siwan/story-nNJ50rMCX9KqxdBsfUv5VM.html?utm_source=inshorts&utm_medium=referral&utm_campaign=fullarticle \",\n          \"https://www.theguardian.com/business/2017/jul/17/primark-recalls-mens-flip-flops-after-carcinogenic-chemical-discovery?utm_source=inshorts&utm_medium=referral&utm_campaign=fullarticle \",\n          \"http://indiatoday.intoday.in/story/yogi-adityanath-inspired-menu-vegetarian-lucknow-hotel-ssj-international-charbagh-lifefd/1/925947.html \"\n        ],\n        \"semantic_type\": \"\",\n        \"description\": \"\"\n      }\n    },\n    {\n      \"column\": \"text\",\n      \"properties\": {\n        \"dtype\": \"string\",\n        \"num_unique_values\": 4514,\n        \"samples\": [\n          \"All restaurants, including five-star hotels, in South Delhi have been directed by a Delhi civic body to make their toilets available to general public, who are not customers, at a fee of ?5 starting April 1. \\\"The move will be particularly beneficial for women who face problems due to lack of toilets in marketplaces,\\\" the South Delhi Municipal Corporation said.\",\n          \"The Chinese government has banned singer Justin Bieber from performing in the country as he has \\\"engaged in a series of bad behaviours, both in his social life and during a previous performance in China\\\". Bieber will perform in Asia later this year, with concerts scheduled in countries like Indonesia, Japan and Singapore, as part of his Purpose World Tour.\",\n          \"Pakistan on Saturday accused India of targeting the China-Pakistan Economic Corridor (CPEC) project through subversive activities. Pakistan further said that it is aware of \\\"enemy designs\\\" and is taking effective counter measures. Notably, India which has repeatedly dismissed all such allegations has raised sovereignty concerns over the project as it passes through Pakistan-occupied Kashmir.\"\n        ],\n        \"semantic_type\": \"\",\n        \"description\": \"\"\n      }\n    },\n    {\n      \"column\": \"ctext\",\n      \"properties\": {\n        \"dtype\": \"string\",\n        \"num_unique_values\": 4341,\n        \"samples\": [\n          \"If you are a Samsung Galaxy Note fan, you were waiting to hear these words -- Note 7 will be sold in India. Despite all the bad whether it went through before being laid to the grave, Note 7 might come back from the dead; it has to if the company is to minimize losses and environmental penalties incurred in disposal of close to 3 million devices.Update: Samsung has denied that it has any plans to sell refurbished Galaxy Note 7 units in India. \\\"The report on Samsung planning to sell refurbished Galaxy Note 7 smartphone in India is incorrect,\\\" said a Samsung India spokesperson, without offering any other details.\\u00a0 Korean website Hankyung  reports the Galaxy Note 7 is due for a resurrection in select places -- Vietnam, India and probably South Korea. Samsung Electronics will finalise the designs by May this year and will go on sale in June (expected). Several changes will be made to the phone.Also Read:  Galaxy Note 7 exploded due to battery, confirms Samsung Samsung initially announced a recall of some 2.5 million Note 7 phones in September and identified the cause of the fire as a manufacturing process problem at one of its suppliers, but new Note 7s with what Samsung said were safe batteries from a different supplier continued to catch fire.But it was only after a complete recall and \\\"in-depth\\\" analysis of the cause did it make out that it was not the battery material, but the way the battery was shaped to fit in the chassis that caused the short circuit.Now, Samsung will be redesigning both the battery and the chassis. The battery is said to be of a lower capacity -- about 3000mAh, and if Samsung is redesigning the chassis, it might not support a dual curved screen. But it will be called refurbished and the price expected should be considerably cheaper.\",\n          \"The public works department (PWD) has cleared the proposal for the construction of a flyover over the erstwhile NH-58 near Raj Nagar Extension (RNE). After NH-58 was denotified as a highway last year, it was assigned as ?other district road? to the PWD as per a state government notification in June.Due to massive inflow of traffic on the Ghaziabad-Meerut Road (erstwhile NH-58), officials of the Ghaziabad Development Authority (GDA) had proposed the construction of a flyover and also altered the design, by making it a split-type flyover, as the regional rapid transit system (RRTS) corridor passes through the median of the road.?We have given clearance for the project to the GDA. They will have to prepare a service lane in the area and also have to take care of the piped gas line that passes through the area. They will make use of additional land in the vicinity and also remove encroachments. We also reviewed their traffic plan and have given them the permission after a thorough study,? said Manish Verma, executive engineer, PWD.?We also checked the RRTS alignment and had also asked them to take permission from the agency concerned. The clearance was given on a review of the traffic regulation plan and provision for the RRTS alignment. We are also planning to make the road a state highway and will send a proposal to the government. This is because the volume of traffic has remained the same despite the road being denotified as a highway,? he said.The proposed flyover, spanning 538 metres, is pegged at Rs50 crore and its design was changed from combined six-lane to three-lane (each side) split-type one. The middle portion between the two lanes will be used for the RRTS, which will come up on an elevated section, like the metro train system.The authority had proposed the flyover to decongest the city roads as a heavy volume of traffic is witnessed at the intersection.?The design for the flyover has been approved by the RRTS agency. The flyover design report is waiting to be vetted by IIT, Roorkee. The UP state bridge corporation is the construction agency. Once the design is vetted, the flyover construction can be started. We have received clearances from PWD for the project,? said Chakresh Jain, executive engineer, GDA.The authority has also proposed a flyover in Vasundhara, over the Link Road. Officials said that the proposed design is not in conflict with the RRTS alignment and pegged the cost at Rs50 crore.\",\n          \"New Delhi, Jun 30 (PTI) As India transits to a new era with rollout of GST, the government is leaving no stone unturned for a smooth switchover and has asked tax offices to convert into GST Seva-Kendras to provide all assistance to tax payers. While the rollout day of July 1 will be known as GST Day, all the offices of the Central Board of Excise and Customs (CBEC) have been instructed to be open on Saturday as a trade facilitation measure. This was to enable the availability of officers and staff for the benefit of trade and industry, an order issued by CBEC Special Secretary and Member S Ramesh said. \\\"Henceforth, all field offices from the Chief Commissioners office to the Range should serve as GST Seva- Kendras for effective trade facilitation,\\\" it said. Apart from giving guidance to GST assessees, GST Seva Kendras should render assistance to taxpayers in migration, registration as well as filing of returns. A guidance manual for such GST Seva Kendras too has been circulated to all offices in a bid to standardise quality taxpayer services. The order instructed such manuals to be prepared for each zone operating at different levels. \\\"This work may be done in a time-bound manner so as to be completed in next 2-3 days,\\\" Ramesh wrote. CBEC also asked for strengthening of the GST Seva-Kendras to enable them discharge their functions effectively and promptly. In the run-up to the GST rollout, CBEC had organised outreach programmes and training sessions for the new regime. \"\n        ],\n        \"semantic_type\": \"\",\n        \"description\": \"\"\n      }\n    }\n  ]\n}"
            }
          },
          "metadata": {},
          "execution_count": 3
        }
      ]
    },
    {
      "cell_type": "markdown",
      "source": [
        "# Here we will be interested in column Ctext  which news and text which is summary of that news.\n",
        "# so we will take these two columns for further training"
      ],
      "metadata": {
        "id": "8MaqsujIFJXT"
      }
    },
    {
      "cell_type": "code",
      "source": [
        "df=df[['text','ctext']]\n",
        "df.rename(columns={'text':'summary','ctext':'news'},inplace=True) #Rename for better naming\n",
        "df.head(2)"
      ],
      "metadata": {
        "colab": {
          "base_uri": "https://localhost:8080/",
          "height": 112
        },
        "id": "QHbuc5LvFYHa",
        "outputId": "4bc83fb5-71be-4a40-deb8-7eb48eef532b"
      },
      "execution_count": 4,
      "outputs": [
        {
          "output_type": "execute_result",
          "data": {
            "text/plain": [
              "                                             summary  \\\n",
              "0  The Administration of Union Territory Daman an...   \n",
              "1  Malaika Arora slammed an Instagram user who tr...   \n",
              "\n",
              "                                                news  \n",
              "0  The Daman and Diu administration on Wednesday ...  \n",
              "1  From her special numbers to TV?appearances, Bo...  "
            ],
            "text/html": [
              "\n",
              "  <div id=\"df-c6aeb825-a8ea-4c0d-b639-cf237049304d\" class=\"colab-df-container\">\n",
              "    <div>\n",
              "<style scoped>\n",
              "    .dataframe tbody tr th:only-of-type {\n",
              "        vertical-align: middle;\n",
              "    }\n",
              "\n",
              "    .dataframe tbody tr th {\n",
              "        vertical-align: top;\n",
              "    }\n",
              "\n",
              "    .dataframe thead th {\n",
              "        text-align: right;\n",
              "    }\n",
              "</style>\n",
              "<table border=\"1\" class=\"dataframe\">\n",
              "  <thead>\n",
              "    <tr style=\"text-align: right;\">\n",
              "      <th></th>\n",
              "      <th>summary</th>\n",
              "      <th>news</th>\n",
              "    </tr>\n",
              "  </thead>\n",
              "  <tbody>\n",
              "    <tr>\n",
              "      <th>0</th>\n",
              "      <td>The Administration of Union Territory Daman an...</td>\n",
              "      <td>The Daman and Diu administration on Wednesday ...</td>\n",
              "    </tr>\n",
              "    <tr>\n",
              "      <th>1</th>\n",
              "      <td>Malaika Arora slammed an Instagram user who tr...</td>\n",
              "      <td>From her special numbers to TV?appearances, Bo...</td>\n",
              "    </tr>\n",
              "  </tbody>\n",
              "</table>\n",
              "</div>\n",
              "    <div class=\"colab-df-buttons\">\n",
              "\n",
              "  <div class=\"colab-df-container\">\n",
              "    <button class=\"colab-df-convert\" onclick=\"convertToInteractive('df-c6aeb825-a8ea-4c0d-b639-cf237049304d')\"\n",
              "            title=\"Convert this dataframe to an interactive table.\"\n",
              "            style=\"display:none;\">\n",
              "\n",
              "  <svg xmlns=\"http://www.w3.org/2000/svg\" height=\"24px\" viewBox=\"0 -960 960 960\">\n",
              "    <path d=\"M120-120v-720h720v720H120Zm60-500h600v-160H180v160Zm220 220h160v-160H400v160Zm0 220h160v-160H400v160ZM180-400h160v-160H180v160Zm440 0h160v-160H620v160ZM180-180h160v-160H180v160Zm440 0h160v-160H620v160Z\"/>\n",
              "  </svg>\n",
              "    </button>\n",
              "\n",
              "  <style>\n",
              "    .colab-df-container {\n",
              "      display:flex;\n",
              "      gap: 12px;\n",
              "    }\n",
              "\n",
              "    .colab-df-convert {\n",
              "      background-color: #E8F0FE;\n",
              "      border: none;\n",
              "      border-radius: 50%;\n",
              "      cursor: pointer;\n",
              "      display: none;\n",
              "      fill: #1967D2;\n",
              "      height: 32px;\n",
              "      padding: 0 0 0 0;\n",
              "      width: 32px;\n",
              "    }\n",
              "\n",
              "    .colab-df-convert:hover {\n",
              "      background-color: #E2EBFA;\n",
              "      box-shadow: 0px 1px 2px rgba(60, 64, 67, 0.3), 0px 1px 3px 1px rgba(60, 64, 67, 0.15);\n",
              "      fill: #174EA6;\n",
              "    }\n",
              "\n",
              "    .colab-df-buttons div {\n",
              "      margin-bottom: 4px;\n",
              "    }\n",
              "\n",
              "    [theme=dark] .colab-df-convert {\n",
              "      background-color: #3B4455;\n",
              "      fill: #D2E3FC;\n",
              "    }\n",
              "\n",
              "    [theme=dark] .colab-df-convert:hover {\n",
              "      background-color: #434B5C;\n",
              "      box-shadow: 0px 1px 3px 1px rgba(0, 0, 0, 0.15);\n",
              "      filter: drop-shadow(0px 1px 2px rgba(0, 0, 0, 0.3));\n",
              "      fill: #FFFFFF;\n",
              "    }\n",
              "  </style>\n",
              "\n",
              "    <script>\n",
              "      const buttonEl =\n",
              "        document.querySelector('#df-c6aeb825-a8ea-4c0d-b639-cf237049304d button.colab-df-convert');\n",
              "      buttonEl.style.display =\n",
              "        google.colab.kernel.accessAllowed ? 'block' : 'none';\n",
              "\n",
              "      async function convertToInteractive(key) {\n",
              "        const element = document.querySelector('#df-c6aeb825-a8ea-4c0d-b639-cf237049304d');\n",
              "        const dataTable =\n",
              "          await google.colab.kernel.invokeFunction('convertToInteractive',\n",
              "                                                    [key], {});\n",
              "        if (!dataTable) return;\n",
              "\n",
              "        const docLinkHtml = 'Like what you see? Visit the ' +\n",
              "          '<a target=\"_blank\" href=https://colab.research.google.com/notebooks/data_table.ipynb>data table notebook</a>'\n",
              "          + ' to learn more about interactive tables.';\n",
              "        element.innerHTML = '';\n",
              "        dataTable['output_type'] = 'display_data';\n",
              "        await google.colab.output.renderOutput(dataTable, element);\n",
              "        const docLink = document.createElement('div');\n",
              "        docLink.innerHTML = docLinkHtml;\n",
              "        element.appendChild(docLink);\n",
              "      }\n",
              "    </script>\n",
              "  </div>\n",
              "\n",
              "\n",
              "<div id=\"df-b863b9db-3ddc-4576-9f22-5ddd71b31ad1\">\n",
              "  <button class=\"colab-df-quickchart\" onclick=\"quickchart('df-b863b9db-3ddc-4576-9f22-5ddd71b31ad1')\"\n",
              "            title=\"Suggest charts\"\n",
              "            style=\"display:none;\">\n",
              "\n",
              "<svg xmlns=\"http://www.w3.org/2000/svg\" height=\"24px\"viewBox=\"0 0 24 24\"\n",
              "     width=\"24px\">\n",
              "    <g>\n",
              "        <path d=\"M19 3H5c-1.1 0-2 .9-2 2v14c0 1.1.9 2 2 2h14c1.1 0 2-.9 2-2V5c0-1.1-.9-2-2-2zM9 17H7v-7h2v7zm4 0h-2V7h2v10zm4 0h-2v-4h2v4z\"/>\n",
              "    </g>\n",
              "</svg>\n",
              "  </button>\n",
              "\n",
              "<style>\n",
              "  .colab-df-quickchart {\n",
              "      --bg-color: #E8F0FE;\n",
              "      --fill-color: #1967D2;\n",
              "      --hover-bg-color: #E2EBFA;\n",
              "      --hover-fill-color: #174EA6;\n",
              "      --disabled-fill-color: #AAA;\n",
              "      --disabled-bg-color: #DDD;\n",
              "  }\n",
              "\n",
              "  [theme=dark] .colab-df-quickchart {\n",
              "      --bg-color: #3B4455;\n",
              "      --fill-color: #D2E3FC;\n",
              "      --hover-bg-color: #434B5C;\n",
              "      --hover-fill-color: #FFFFFF;\n",
              "      --disabled-bg-color: #3B4455;\n",
              "      --disabled-fill-color: #666;\n",
              "  }\n",
              "\n",
              "  .colab-df-quickchart {\n",
              "    background-color: var(--bg-color);\n",
              "    border: none;\n",
              "    border-radius: 50%;\n",
              "    cursor: pointer;\n",
              "    display: none;\n",
              "    fill: var(--fill-color);\n",
              "    height: 32px;\n",
              "    padding: 0;\n",
              "    width: 32px;\n",
              "  }\n",
              "\n",
              "  .colab-df-quickchart:hover {\n",
              "    background-color: var(--hover-bg-color);\n",
              "    box-shadow: 0 1px 2px rgba(60, 64, 67, 0.3), 0 1px 3px 1px rgba(60, 64, 67, 0.15);\n",
              "    fill: var(--button-hover-fill-color);\n",
              "  }\n",
              "\n",
              "  .colab-df-quickchart-complete:disabled,\n",
              "  .colab-df-quickchart-complete:disabled:hover {\n",
              "    background-color: var(--disabled-bg-color);\n",
              "    fill: var(--disabled-fill-color);\n",
              "    box-shadow: none;\n",
              "  }\n",
              "\n",
              "  .colab-df-spinner {\n",
              "    border: 2px solid var(--fill-color);\n",
              "    border-color: transparent;\n",
              "    border-bottom-color: var(--fill-color);\n",
              "    animation:\n",
              "      spin 1s steps(1) infinite;\n",
              "  }\n",
              "\n",
              "  @keyframes spin {\n",
              "    0% {\n",
              "      border-color: transparent;\n",
              "      border-bottom-color: var(--fill-color);\n",
              "      border-left-color: var(--fill-color);\n",
              "    }\n",
              "    20% {\n",
              "      border-color: transparent;\n",
              "      border-left-color: var(--fill-color);\n",
              "      border-top-color: var(--fill-color);\n",
              "    }\n",
              "    30% {\n",
              "      border-color: transparent;\n",
              "      border-left-color: var(--fill-color);\n",
              "      border-top-color: var(--fill-color);\n",
              "      border-right-color: var(--fill-color);\n",
              "    }\n",
              "    40% {\n",
              "      border-color: transparent;\n",
              "      border-right-color: var(--fill-color);\n",
              "      border-top-color: var(--fill-color);\n",
              "    }\n",
              "    60% {\n",
              "      border-color: transparent;\n",
              "      border-right-color: var(--fill-color);\n",
              "    }\n",
              "    80% {\n",
              "      border-color: transparent;\n",
              "      border-right-color: var(--fill-color);\n",
              "      border-bottom-color: var(--fill-color);\n",
              "    }\n",
              "    90% {\n",
              "      border-color: transparent;\n",
              "      border-bottom-color: var(--fill-color);\n",
              "    }\n",
              "  }\n",
              "</style>\n",
              "\n",
              "  <script>\n",
              "    async function quickchart(key) {\n",
              "      const quickchartButtonEl =\n",
              "        document.querySelector('#' + key + ' button');\n",
              "      quickchartButtonEl.disabled = true;  // To prevent multiple clicks.\n",
              "      quickchartButtonEl.classList.add('colab-df-spinner');\n",
              "      try {\n",
              "        const charts = await google.colab.kernel.invokeFunction(\n",
              "            'suggestCharts', [key], {});\n",
              "      } catch (error) {\n",
              "        console.error('Error during call to suggestCharts:', error);\n",
              "      }\n",
              "      quickchartButtonEl.classList.remove('colab-df-spinner');\n",
              "      quickchartButtonEl.classList.add('colab-df-quickchart-complete');\n",
              "    }\n",
              "    (() => {\n",
              "      let quickchartButtonEl =\n",
              "        document.querySelector('#df-b863b9db-3ddc-4576-9f22-5ddd71b31ad1 button');\n",
              "      quickchartButtonEl.style.display =\n",
              "        google.colab.kernel.accessAllowed ? 'block' : 'none';\n",
              "    })();\n",
              "  </script>\n",
              "</div>\n",
              "\n",
              "    </div>\n",
              "  </div>\n"
            ],
            "application/vnd.google.colaboratory.intrinsic+json": {
              "type": "dataframe",
              "variable_name": "df",
              "summary": "{\n  \"name\": \"df\",\n  \"rows\": 4514,\n  \"fields\": [\n    {\n      \"column\": \"summary\",\n      \"properties\": {\n        \"dtype\": \"string\",\n        \"num_unique_values\": 4514,\n        \"samples\": [\n          \"All restaurants, including five-star hotels, in South Delhi have been directed by a Delhi civic body to make their toilets available to general public, who are not customers, at a fee of ?5 starting April 1. \\\"The move will be particularly beneficial for women who face problems due to lack of toilets in marketplaces,\\\" the South Delhi Municipal Corporation said.\",\n          \"The Chinese government has banned singer Justin Bieber from performing in the country as he has \\\"engaged in a series of bad behaviours, both in his social life and during a previous performance in China\\\". Bieber will perform in Asia later this year, with concerts scheduled in countries like Indonesia, Japan and Singapore, as part of his Purpose World Tour.\",\n          \"Pakistan on Saturday accused India of targeting the China-Pakistan Economic Corridor (CPEC) project through subversive activities. Pakistan further said that it is aware of \\\"enemy designs\\\" and is taking effective counter measures. Notably, India which has repeatedly dismissed all such allegations has raised sovereignty concerns over the project as it passes through Pakistan-occupied Kashmir.\"\n        ],\n        \"semantic_type\": \"\",\n        \"description\": \"\"\n      }\n    },\n    {\n      \"column\": \"news\",\n      \"properties\": {\n        \"dtype\": \"string\",\n        \"num_unique_values\": 4341,\n        \"samples\": [\n          \"If you are a Samsung Galaxy Note fan, you were waiting to hear these words -- Note 7 will be sold in India. Despite all the bad whether it went through before being laid to the grave, Note 7 might come back from the dead; it has to if the company is to minimize losses and environmental penalties incurred in disposal of close to 3 million devices.Update: Samsung has denied that it has any plans to sell refurbished Galaxy Note 7 units in India. \\\"The report on Samsung planning to sell refurbished Galaxy Note 7 smartphone in India is incorrect,\\\" said a Samsung India spokesperson, without offering any other details.\\u00a0 Korean website Hankyung  reports the Galaxy Note 7 is due for a resurrection in select places -- Vietnam, India and probably South Korea. Samsung Electronics will finalise the designs by May this year and will go on sale in June (expected). Several changes will be made to the phone.Also Read:  Galaxy Note 7 exploded due to battery, confirms Samsung Samsung initially announced a recall of some 2.5 million Note 7 phones in September and identified the cause of the fire as a manufacturing process problem at one of its suppliers, but new Note 7s with what Samsung said were safe batteries from a different supplier continued to catch fire.But it was only after a complete recall and \\\"in-depth\\\" analysis of the cause did it make out that it was not the battery material, but the way the battery was shaped to fit in the chassis that caused the short circuit.Now, Samsung will be redesigning both the battery and the chassis. The battery is said to be of a lower capacity -- about 3000mAh, and if Samsung is redesigning the chassis, it might not support a dual curved screen. But it will be called refurbished and the price expected should be considerably cheaper.\",\n          \"The public works department (PWD) has cleared the proposal for the construction of a flyover over the erstwhile NH-58 near Raj Nagar Extension (RNE). After NH-58 was denotified as a highway last year, it was assigned as ?other district road? to the PWD as per a state government notification in June.Due to massive inflow of traffic on the Ghaziabad-Meerut Road (erstwhile NH-58), officials of the Ghaziabad Development Authority (GDA) had proposed the construction of a flyover and also altered the design, by making it a split-type flyover, as the regional rapid transit system (RRTS) corridor passes through the median of the road.?We have given clearance for the project to the GDA. They will have to prepare a service lane in the area and also have to take care of the piped gas line that passes through the area. They will make use of additional land in the vicinity and also remove encroachments. We also reviewed their traffic plan and have given them the permission after a thorough study,? said Manish Verma, executive engineer, PWD.?We also checked the RRTS alignment and had also asked them to take permission from the agency concerned. The clearance was given on a review of the traffic regulation plan and provision for the RRTS alignment. We are also planning to make the road a state highway and will send a proposal to the government. This is because the volume of traffic has remained the same despite the road being denotified as a highway,? he said.The proposed flyover, spanning 538 metres, is pegged at Rs50 crore and its design was changed from combined six-lane to three-lane (each side) split-type one. The middle portion between the two lanes will be used for the RRTS, which will come up on an elevated section, like the metro train system.The authority had proposed the flyover to decongest the city roads as a heavy volume of traffic is witnessed at the intersection.?The design for the flyover has been approved by the RRTS agency. The flyover design report is waiting to be vetted by IIT, Roorkee. The UP state bridge corporation is the construction agency. Once the design is vetted, the flyover construction can be started. We have received clearances from PWD for the project,? said Chakresh Jain, executive engineer, GDA.The authority has also proposed a flyover in Vasundhara, over the Link Road. Officials said that the proposed design is not in conflict with the RRTS alignment and pegged the cost at Rs50 crore.\",\n          \"New Delhi, Jun 30 (PTI) As India transits to a new era with rollout of GST, the government is leaving no stone unturned for a smooth switchover and has asked tax offices to convert into GST Seva-Kendras to provide all assistance to tax payers. While the rollout day of July 1 will be known as GST Day, all the offices of the Central Board of Excise and Customs (CBEC) have been instructed to be open on Saturday as a trade facilitation measure. This was to enable the availability of officers and staff for the benefit of trade and industry, an order issued by CBEC Special Secretary and Member S Ramesh said. \\\"Henceforth, all field offices from the Chief Commissioners office to the Range should serve as GST Seva- Kendras for effective trade facilitation,\\\" it said. Apart from giving guidance to GST assessees, GST Seva Kendras should render assistance to taxpayers in migration, registration as well as filing of returns. A guidance manual for such GST Seva Kendras too has been circulated to all offices in a bid to standardise quality taxpayer services. The order instructed such manuals to be prepared for each zone operating at different levels. \\\"This work may be done in a time-bound manner so as to be completed in next 2-3 days,\\\" Ramesh wrote. CBEC also asked for strengthening of the GST Seva-Kendras to enable them discharge their functions effectively and promptly. In the run-up to the GST rollout, CBEC had organised outreach programmes and training sessions for the new regime. \"\n        ],\n        \"semantic_type\": \"\",\n        \"description\": \"\"\n      }\n    }\n  ]\n}"
            }
          },
          "metadata": {},
          "execution_count": 4
        }
      ]
    },
    {
      "cell_type": "code",
      "source": [
        "df.isnull().sum()   #Check for Null values"
      ],
      "metadata": {
        "colab": {
          "base_uri": "https://localhost:8080/"
        },
        "id": "03ppMozKsAbn",
        "outputId": "7087d0e1-0186-4962-b999-0a5673149ad3"
      },
      "execution_count": 5,
      "outputs": [
        {
          "output_type": "execute_result",
          "data": {
            "text/plain": [
              "summary      0\n",
              "news       118\n",
              "dtype: int64"
            ]
          },
          "metadata": {},
          "execution_count": 5
        }
      ]
    },
    {
      "cell_type": "code",
      "source": [
        "df.dropna(inplace=True)   # Drop null values"
      ],
      "metadata": {
        "id": "F7SRI4hJsH_t"
      },
      "execution_count": 6,
      "outputs": []
    },
    {
      "cell_type": "code",
      "source": [
        "df.shape"
      ],
      "metadata": {
        "colab": {
          "base_uri": "https://localhost:8080/"
        },
        "id": "HI7WYbBEsXBu",
        "outputId": "0e7a0353-0ce9-4141-8e3c-155443e509a0"
      },
      "execution_count": 7,
      "outputs": [
        {
          "output_type": "execute_result",
          "data": {
            "text/plain": [
              "(4396, 2)"
            ]
          },
          "metadata": {},
          "execution_count": 7
        }
      ]
    },
    {
      "cell_type": "markdown",
      "source": [
        "#T5 model needs input prompt with instruction  like summerize:abcdcrgxxxxx\n",
        "# will prefix the instruction in ctext colummn"
      ],
      "metadata": {
        "id": "DHJpARwAHWC-"
      }
    },
    {
      "cell_type": "code",
      "source": [
        "df['news']='summerize:' + df.loc[:,('news')]   # df.loc[<row range>,<column list>]  We applied on all rows in column 'news'\n",
        "\n",
        "#df['news']='summerize:'+df['news']   #This is also ok but givee ceavats warning\n",
        "df.head(2)"
      ],
      "metadata": {
        "colab": {
          "base_uri": "https://localhost:8080/",
          "height": 112
        },
        "id": "aRuV7jYTIrUa",
        "outputId": "f424e2d7-1816-4820-df58-4727226df276"
      },
      "execution_count": 8,
      "outputs": [
        {
          "output_type": "execute_result",
          "data": {
            "text/plain": [
              "                                             summary  \\\n",
              "0  The Administration of Union Territory Daman an...   \n",
              "1  Malaika Arora slammed an Instagram user who tr...   \n",
              "\n",
              "                                                news  \n",
              "0  summerize:The Daman and Diu administration on ...  \n",
              "1  summerize:From her special numbers to TV?appea...  "
            ],
            "text/html": [
              "\n",
              "  <div id=\"df-f2ba3f0a-b725-467c-9334-3da0f326ced3\" class=\"colab-df-container\">\n",
              "    <div>\n",
              "<style scoped>\n",
              "    .dataframe tbody tr th:only-of-type {\n",
              "        vertical-align: middle;\n",
              "    }\n",
              "\n",
              "    .dataframe tbody tr th {\n",
              "        vertical-align: top;\n",
              "    }\n",
              "\n",
              "    .dataframe thead th {\n",
              "        text-align: right;\n",
              "    }\n",
              "</style>\n",
              "<table border=\"1\" class=\"dataframe\">\n",
              "  <thead>\n",
              "    <tr style=\"text-align: right;\">\n",
              "      <th></th>\n",
              "      <th>summary</th>\n",
              "      <th>news</th>\n",
              "    </tr>\n",
              "  </thead>\n",
              "  <tbody>\n",
              "    <tr>\n",
              "      <th>0</th>\n",
              "      <td>The Administration of Union Territory Daman an...</td>\n",
              "      <td>summerize:The Daman and Diu administration on ...</td>\n",
              "    </tr>\n",
              "    <tr>\n",
              "      <th>1</th>\n",
              "      <td>Malaika Arora slammed an Instagram user who tr...</td>\n",
              "      <td>summerize:From her special numbers to TV?appea...</td>\n",
              "    </tr>\n",
              "  </tbody>\n",
              "</table>\n",
              "</div>\n",
              "    <div class=\"colab-df-buttons\">\n",
              "\n",
              "  <div class=\"colab-df-container\">\n",
              "    <button class=\"colab-df-convert\" onclick=\"convertToInteractive('df-f2ba3f0a-b725-467c-9334-3da0f326ced3')\"\n",
              "            title=\"Convert this dataframe to an interactive table.\"\n",
              "            style=\"display:none;\">\n",
              "\n",
              "  <svg xmlns=\"http://www.w3.org/2000/svg\" height=\"24px\" viewBox=\"0 -960 960 960\">\n",
              "    <path d=\"M120-120v-720h720v720H120Zm60-500h600v-160H180v160Zm220 220h160v-160H400v160Zm0 220h160v-160H400v160ZM180-400h160v-160H180v160Zm440 0h160v-160H620v160ZM180-180h160v-160H180v160Zm440 0h160v-160H620v160Z\"/>\n",
              "  </svg>\n",
              "    </button>\n",
              "\n",
              "  <style>\n",
              "    .colab-df-container {\n",
              "      display:flex;\n",
              "      gap: 12px;\n",
              "    }\n",
              "\n",
              "    .colab-df-convert {\n",
              "      background-color: #E8F0FE;\n",
              "      border: none;\n",
              "      border-radius: 50%;\n",
              "      cursor: pointer;\n",
              "      display: none;\n",
              "      fill: #1967D2;\n",
              "      height: 32px;\n",
              "      padding: 0 0 0 0;\n",
              "      width: 32px;\n",
              "    }\n",
              "\n",
              "    .colab-df-convert:hover {\n",
              "      background-color: #E2EBFA;\n",
              "      box-shadow: 0px 1px 2px rgba(60, 64, 67, 0.3), 0px 1px 3px 1px rgba(60, 64, 67, 0.15);\n",
              "      fill: #174EA6;\n",
              "    }\n",
              "\n",
              "    .colab-df-buttons div {\n",
              "      margin-bottom: 4px;\n",
              "    }\n",
              "\n",
              "    [theme=dark] .colab-df-convert {\n",
              "      background-color: #3B4455;\n",
              "      fill: #D2E3FC;\n",
              "    }\n",
              "\n",
              "    [theme=dark] .colab-df-convert:hover {\n",
              "      background-color: #434B5C;\n",
              "      box-shadow: 0px 1px 3px 1px rgba(0, 0, 0, 0.15);\n",
              "      filter: drop-shadow(0px 1px 2px rgba(0, 0, 0, 0.3));\n",
              "      fill: #FFFFFF;\n",
              "    }\n",
              "  </style>\n",
              "\n",
              "    <script>\n",
              "      const buttonEl =\n",
              "        document.querySelector('#df-f2ba3f0a-b725-467c-9334-3da0f326ced3 button.colab-df-convert');\n",
              "      buttonEl.style.display =\n",
              "        google.colab.kernel.accessAllowed ? 'block' : 'none';\n",
              "\n",
              "      async function convertToInteractive(key) {\n",
              "        const element = document.querySelector('#df-f2ba3f0a-b725-467c-9334-3da0f326ced3');\n",
              "        const dataTable =\n",
              "          await google.colab.kernel.invokeFunction('convertToInteractive',\n",
              "                                                    [key], {});\n",
              "        if (!dataTable) return;\n",
              "\n",
              "        const docLinkHtml = 'Like what you see? Visit the ' +\n",
              "          '<a target=\"_blank\" href=https://colab.research.google.com/notebooks/data_table.ipynb>data table notebook</a>'\n",
              "          + ' to learn more about interactive tables.';\n",
              "        element.innerHTML = '';\n",
              "        dataTable['output_type'] = 'display_data';\n",
              "        await google.colab.output.renderOutput(dataTable, element);\n",
              "        const docLink = document.createElement('div');\n",
              "        docLink.innerHTML = docLinkHtml;\n",
              "        element.appendChild(docLink);\n",
              "      }\n",
              "    </script>\n",
              "  </div>\n",
              "\n",
              "\n",
              "<div id=\"df-a7a80341-3532-4344-ba64-24f135986743\">\n",
              "  <button class=\"colab-df-quickchart\" onclick=\"quickchart('df-a7a80341-3532-4344-ba64-24f135986743')\"\n",
              "            title=\"Suggest charts\"\n",
              "            style=\"display:none;\">\n",
              "\n",
              "<svg xmlns=\"http://www.w3.org/2000/svg\" height=\"24px\"viewBox=\"0 0 24 24\"\n",
              "     width=\"24px\">\n",
              "    <g>\n",
              "        <path d=\"M19 3H5c-1.1 0-2 .9-2 2v14c0 1.1.9 2 2 2h14c1.1 0 2-.9 2-2V5c0-1.1-.9-2-2-2zM9 17H7v-7h2v7zm4 0h-2V7h2v10zm4 0h-2v-4h2v4z\"/>\n",
              "    </g>\n",
              "</svg>\n",
              "  </button>\n",
              "\n",
              "<style>\n",
              "  .colab-df-quickchart {\n",
              "      --bg-color: #E8F0FE;\n",
              "      --fill-color: #1967D2;\n",
              "      --hover-bg-color: #E2EBFA;\n",
              "      --hover-fill-color: #174EA6;\n",
              "      --disabled-fill-color: #AAA;\n",
              "      --disabled-bg-color: #DDD;\n",
              "  }\n",
              "\n",
              "  [theme=dark] .colab-df-quickchart {\n",
              "      --bg-color: #3B4455;\n",
              "      --fill-color: #D2E3FC;\n",
              "      --hover-bg-color: #434B5C;\n",
              "      --hover-fill-color: #FFFFFF;\n",
              "      --disabled-bg-color: #3B4455;\n",
              "      --disabled-fill-color: #666;\n",
              "  }\n",
              "\n",
              "  .colab-df-quickchart {\n",
              "    background-color: var(--bg-color);\n",
              "    border: none;\n",
              "    border-radius: 50%;\n",
              "    cursor: pointer;\n",
              "    display: none;\n",
              "    fill: var(--fill-color);\n",
              "    height: 32px;\n",
              "    padding: 0;\n",
              "    width: 32px;\n",
              "  }\n",
              "\n",
              "  .colab-df-quickchart:hover {\n",
              "    background-color: var(--hover-bg-color);\n",
              "    box-shadow: 0 1px 2px rgba(60, 64, 67, 0.3), 0 1px 3px 1px rgba(60, 64, 67, 0.15);\n",
              "    fill: var(--button-hover-fill-color);\n",
              "  }\n",
              "\n",
              "  .colab-df-quickchart-complete:disabled,\n",
              "  .colab-df-quickchart-complete:disabled:hover {\n",
              "    background-color: var(--disabled-bg-color);\n",
              "    fill: var(--disabled-fill-color);\n",
              "    box-shadow: none;\n",
              "  }\n",
              "\n",
              "  .colab-df-spinner {\n",
              "    border: 2px solid var(--fill-color);\n",
              "    border-color: transparent;\n",
              "    border-bottom-color: var(--fill-color);\n",
              "    animation:\n",
              "      spin 1s steps(1) infinite;\n",
              "  }\n",
              "\n",
              "  @keyframes spin {\n",
              "    0% {\n",
              "      border-color: transparent;\n",
              "      border-bottom-color: var(--fill-color);\n",
              "      border-left-color: var(--fill-color);\n",
              "    }\n",
              "    20% {\n",
              "      border-color: transparent;\n",
              "      border-left-color: var(--fill-color);\n",
              "      border-top-color: var(--fill-color);\n",
              "    }\n",
              "    30% {\n",
              "      border-color: transparent;\n",
              "      border-left-color: var(--fill-color);\n",
              "      border-top-color: var(--fill-color);\n",
              "      border-right-color: var(--fill-color);\n",
              "    }\n",
              "    40% {\n",
              "      border-color: transparent;\n",
              "      border-right-color: var(--fill-color);\n",
              "      border-top-color: var(--fill-color);\n",
              "    }\n",
              "    60% {\n",
              "      border-color: transparent;\n",
              "      border-right-color: var(--fill-color);\n",
              "    }\n",
              "    80% {\n",
              "      border-color: transparent;\n",
              "      border-right-color: var(--fill-color);\n",
              "      border-bottom-color: var(--fill-color);\n",
              "    }\n",
              "    90% {\n",
              "      border-color: transparent;\n",
              "      border-bottom-color: var(--fill-color);\n",
              "    }\n",
              "  }\n",
              "</style>\n",
              "\n",
              "  <script>\n",
              "    async function quickchart(key) {\n",
              "      const quickchartButtonEl =\n",
              "        document.querySelector('#' + key + ' button');\n",
              "      quickchartButtonEl.disabled = true;  // To prevent multiple clicks.\n",
              "      quickchartButtonEl.classList.add('colab-df-spinner');\n",
              "      try {\n",
              "        const charts = await google.colab.kernel.invokeFunction(\n",
              "            'suggestCharts', [key], {});\n",
              "      } catch (error) {\n",
              "        console.error('Error during call to suggestCharts:', error);\n",
              "      }\n",
              "      quickchartButtonEl.classList.remove('colab-df-spinner');\n",
              "      quickchartButtonEl.classList.add('colab-df-quickchart-complete');\n",
              "    }\n",
              "    (() => {\n",
              "      let quickchartButtonEl =\n",
              "        document.querySelector('#df-a7a80341-3532-4344-ba64-24f135986743 button');\n",
              "      quickchartButtonEl.style.display =\n",
              "        google.colab.kernel.accessAllowed ? 'block' : 'none';\n",
              "    })();\n",
              "  </script>\n",
              "</div>\n",
              "\n",
              "    </div>\n",
              "  </div>\n"
            ],
            "application/vnd.google.colaboratory.intrinsic+json": {
              "type": "dataframe",
              "variable_name": "df",
              "summary": "{\n  \"name\": \"df\",\n  \"rows\": 4396,\n  \"fields\": [\n    {\n      \"column\": \"summary\",\n      \"properties\": {\n        \"dtype\": \"string\",\n        \"num_unique_values\": 4396,\n        \"samples\": [\n          \"A woman, who was arrested twice last week for trying to jump the White House fence, has been arrested for the third time for scaling a fence at the Treasury Building, next to the White House. The woman, who told officers that she wanted to speak to President Donald Trump, has been charged with unlawful entry and contempt of court.\",\n          \"A tea stall in Gujarat's Vadnagar railway station where PM Narendra Modi used to sell tea during his childhood is set to become a tourist spot. Union Culture Minister Mahesh Sharma visited the place on Sunday and said the tea stall will be developed as a part of a ?100-crore project to develop Vadnagar and surrounding areas as tourist destinations. \",\n          \"US President Barack Obama has declared January 16 as Religious Freedom Day in accordance with a yearly tradition. Urging his countrymen to stand against religious intolerance, Obama said, \\\"religious freedom is a principle based not on shared ancestry, culture, ethnicity, or faith but on a shared commitment to liberty.\\\" He further said that America's strength comes from its diversity.\"\n        ],\n        \"semantic_type\": \"\",\n        \"description\": \"\"\n      }\n    },\n    {\n      \"column\": \"news\",\n      \"properties\": {\n        \"dtype\": \"string\",\n        \"num_unique_values\": 4341,\n        \"samples\": [\n          \"summerize:If you are a Samsung Galaxy Note fan, you were waiting to hear these words -- Note 7 will be sold in India. Despite all the bad whether it went through before being laid to the grave, Note 7 might come back from the dead; it has to if the company is to minimize losses and environmental penalties incurred in disposal of close to 3 million devices.Update: Samsung has denied that it has any plans to sell refurbished Galaxy Note 7 units in India. \\\"The report on Samsung planning to sell refurbished Galaxy Note 7 smartphone in India is incorrect,\\\" said a Samsung India spokesperson, without offering any other details.\\u00a0 Korean website Hankyung  reports the Galaxy Note 7 is due for a resurrection in select places -- Vietnam, India and probably South Korea. Samsung Electronics will finalise the designs by May this year and will go on sale in June (expected). Several changes will be made to the phone.Also Read:  Galaxy Note 7 exploded due to battery, confirms Samsung Samsung initially announced a recall of some 2.5 million Note 7 phones in September and identified the cause of the fire as a manufacturing process problem at one of its suppliers, but new Note 7s with what Samsung said were safe batteries from a different supplier continued to catch fire.But it was only after a complete recall and \\\"in-depth\\\" analysis of the cause did it make out that it was not the battery material, but the way the battery was shaped to fit in the chassis that caused the short circuit.Now, Samsung will be redesigning both the battery and the chassis. The battery is said to be of a lower capacity -- about 3000mAh, and if Samsung is redesigning the chassis, it might not support a dual curved screen. But it will be called refurbished and the price expected should be considerably cheaper.\",\n          \"summerize:The public works department (PWD) has cleared the proposal for the construction of a flyover over the erstwhile NH-58 near Raj Nagar Extension (RNE). After NH-58 was denotified as a highway last year, it was assigned as ?other district road? to the PWD as per a state government notification in June.Due to massive inflow of traffic on the Ghaziabad-Meerut Road (erstwhile NH-58), officials of the Ghaziabad Development Authority (GDA) had proposed the construction of a flyover and also altered the design, by making it a split-type flyover, as the regional rapid transit system (RRTS) corridor passes through the median of the road.?We have given clearance for the project to the GDA. They will have to prepare a service lane in the area and also have to take care of the piped gas line that passes through the area. They will make use of additional land in the vicinity and also remove encroachments. We also reviewed their traffic plan and have given them the permission after a thorough study,? said Manish Verma, executive engineer, PWD.?We also checked the RRTS alignment and had also asked them to take permission from the agency concerned. The clearance was given on a review of the traffic regulation plan and provision for the RRTS alignment. We are also planning to make the road a state highway and will send a proposal to the government. This is because the volume of traffic has remained the same despite the road being denotified as a highway,? he said.The proposed flyover, spanning 538 metres, is pegged at Rs50 crore and its design was changed from combined six-lane to three-lane (each side) split-type one. The middle portion between the two lanes will be used for the RRTS, which will come up on an elevated section, like the metro train system.The authority had proposed the flyover to decongest the city roads as a heavy volume of traffic is witnessed at the intersection.?The design for the flyover has been approved by the RRTS agency. The flyover design report is waiting to be vetted by IIT, Roorkee. The UP state bridge corporation is the construction agency. Once the design is vetted, the flyover construction can be started. We have received clearances from PWD for the project,? said Chakresh Jain, executive engineer, GDA.The authority has also proposed a flyover in Vasundhara, over the Link Road. Officials said that the proposed design is not in conflict with the RRTS alignment and pegged the cost at Rs50 crore.\",\n          \"summerize:New Delhi, Jun 30 (PTI) As India transits to a new era with rollout of GST, the government is leaving no stone unturned for a smooth switchover and has asked tax offices to convert into GST Seva-Kendras to provide all assistance to tax payers. While the rollout day of July 1 will be known as GST Day, all the offices of the Central Board of Excise and Customs (CBEC) have been instructed to be open on Saturday as a trade facilitation measure. This was to enable the availability of officers and staff for the benefit of trade and industry, an order issued by CBEC Special Secretary and Member S Ramesh said. \\\"Henceforth, all field offices from the Chief Commissioners office to the Range should serve as GST Seva- Kendras for effective trade facilitation,\\\" it said. Apart from giving guidance to GST assessees, GST Seva Kendras should render assistance to taxpayers in migration, registration as well as filing of returns. A guidance manual for such GST Seva Kendras too has been circulated to all offices in a bid to standardise quality taxpayer services. The order instructed such manuals to be prepared for each zone operating at different levels. \\\"This work may be done in a time-bound manner so as to be completed in next 2-3 days,\\\" Ramesh wrote. CBEC also asked for strengthening of the GST Seva-Kendras to enable them discharge their functions effectively and promptly. In the run-up to the GST rollout, CBEC had organised outreach programmes and training sessions for the new regime. \"\n        ],\n        \"semantic_type\": \"\",\n        \"description\": \"\"\n      }\n    }\n  ]\n}"
            }
          },
          "metadata": {},
          "execution_count": 8
        }
      ]
    },
    {
      "cell_type": "markdown",
      "source": [
        "## Split dataset for train,validation and test"
      ],
      "metadata": {
        "id": "zEFy_Me3J8-g"
      }
    },
    {
      "cell_type": "code",
      "source": [
        "len(df)"
      ],
      "metadata": {
        "colab": {
          "base_uri": "https://localhost:8080/"
        },
        "id": "30lsUDo5WPqq",
        "outputId": "b31d7486-8356-47c3-b250-6b0fadd36c67"
      },
      "execution_count": 9,
      "outputs": [
        {
          "output_type": "execute_result",
          "data": {
            "text/plain": [
              "4396"
            ]
          },
          "metadata": {},
          "execution_count": 9
        }
      ]
    },
    {
      "cell_type": "code",
      "source": [
        "xtest=df['news'][3896:]  #last 500 kept for testing\n",
        "ytest=df['summary'][3896:]\n",
        "\n",
        "x=df['news'][:3896]   #leaving lasst 500, rest 3896 from begining took for train and validation\n",
        "y=df['summary'][:3896]"
      ],
      "metadata": {
        "id": "SQI5Y0RBn5rl"
      },
      "execution_count": 30,
      "outputs": []
    },
    {
      "cell_type": "code",
      "source": [
        "type(x)"
      ],
      "metadata": {
        "colab": {
          "base_uri": "https://localhost:8080/",
          "height": 205
        },
        "id": "yEGwbIBisiDn",
        "outputId": "7f8c1091-40d2-4631-a263-d818e11e9b9d"
      },
      "execution_count": 11,
      "outputs": [
        {
          "output_type": "execute_result",
          "data": {
            "text/plain": [
              "pandas.core.series.Series"
            ],
            "text/html": [
              "<div style=\"max-width:800px; border: 1px solid var(--colab-border-color);\"><style>\n",
              "      pre.function-repr-contents {\n",
              "        overflow-x: auto;\n",
              "        padding: 8px 12px;\n",
              "        max-height: 500px;\n",
              "      }\n",
              "\n",
              "      pre.function-repr-contents.function-repr-contents-collapsed {\n",
              "        cursor: pointer;\n",
              "        max-height: 100px;\n",
              "      }\n",
              "    </style>\n",
              "    <pre style=\"white-space: initial; background:\n",
              "         var(--colab-secondary-surface-color); padding: 8px 12px;\n",
              "         border-bottom: 1px solid var(--colab-border-color);\"><b>pandas.core.series.Series</b><br/>def __init__(data=None, index=None, dtype: Dtype | None=None, name=None, copy: bool | None=None, fastpath: bool=False) -&gt; None</pre><pre class=\"function-repr-contents function-repr-contents-collapsed\" style=\"\"><a class=\"filepath\" style=\"display:none\" href=\"#\">/usr/local/lib/python3.10/dist-packages/pandas/core/series.py</a>One-dimensional ndarray with axis labels (including time series).\n",
              "\n",
              "Labels need not be unique but must be a hashable type. The object\n",
              "supports both integer- and label-based indexing and provides a host of\n",
              "methods for performing operations involving the index. Statistical\n",
              "methods from ndarray have been overridden to automatically exclude\n",
              "missing data (currently represented as NaN).\n",
              "\n",
              "Operations between Series (+, -, /, \\*, \\*\\*) align values based on their\n",
              "associated index values-- they need not be the same length. The result\n",
              "index will be the sorted union of the two indexes.\n",
              "\n",
              "Parameters\n",
              "----------\n",
              "data : array-like, Iterable, dict, or scalar value\n",
              "    Contains data stored in Series. If data is a dict, argument order is\n",
              "    maintained.\n",
              "index : array-like or Index (1d)\n",
              "    Values must be hashable and have the same length as `data`.\n",
              "    Non-unique index values are allowed. Will default to\n",
              "    RangeIndex (0, 1, 2, ..., n) if not provided. If data is dict-like\n",
              "    and index is None, then the keys in the data are used as the index. If the\n",
              "    index is not None, the resulting Series is reindexed with the index values.\n",
              "dtype : str, numpy.dtype, or ExtensionDtype, optional\n",
              "    Data type for the output Series. If not specified, this will be\n",
              "    inferred from `data`.\n",
              "    See the :ref:`user guide &lt;basics.dtypes&gt;` for more usages.\n",
              "name : Hashable, default None\n",
              "    The name to give to the Series.\n",
              "copy : bool, default False\n",
              "    Copy input data. Only affects Series or 1d ndarray input. See examples.\n",
              "\n",
              "Notes\n",
              "-----\n",
              "Please reference the :ref:`User Guide &lt;basics.series&gt;` for more information.\n",
              "\n",
              "Examples\n",
              "--------\n",
              "Constructing Series from a dictionary with an Index specified\n",
              "\n",
              "&gt;&gt;&gt; d = {&#x27;a&#x27;: 1, &#x27;b&#x27;: 2, &#x27;c&#x27;: 3}\n",
              "&gt;&gt;&gt; ser = pd.Series(data=d, index=[&#x27;a&#x27;, &#x27;b&#x27;, &#x27;c&#x27;])\n",
              "&gt;&gt;&gt; ser\n",
              "a   1\n",
              "b   2\n",
              "c   3\n",
              "dtype: int64\n",
              "\n",
              "The keys of the dictionary match with the Index values, hence the Index\n",
              "values have no effect.\n",
              "\n",
              "&gt;&gt;&gt; d = {&#x27;a&#x27;: 1, &#x27;b&#x27;: 2, &#x27;c&#x27;: 3}\n",
              "&gt;&gt;&gt; ser = pd.Series(data=d, index=[&#x27;x&#x27;, &#x27;y&#x27;, &#x27;z&#x27;])\n",
              "&gt;&gt;&gt; ser\n",
              "x   NaN\n",
              "y   NaN\n",
              "z   NaN\n",
              "dtype: float64\n",
              "\n",
              "Note that the Index is first build with the keys from the dictionary.\n",
              "After this the Series is reindexed with the given Index values, hence we\n",
              "get all NaN as a result.\n",
              "\n",
              "Constructing Series from a list with `copy=False`.\n",
              "\n",
              "&gt;&gt;&gt; r = [1, 2]\n",
              "&gt;&gt;&gt; ser = pd.Series(r, copy=False)\n",
              "&gt;&gt;&gt; ser.iloc[0] = 999\n",
              "&gt;&gt;&gt; r\n",
              "[1, 2]\n",
              "&gt;&gt;&gt; ser\n",
              "0    999\n",
              "1      2\n",
              "dtype: int64\n",
              "\n",
              "Due to input data type the Series has a `copy` of\n",
              "the original data even though `copy=False`, so\n",
              "the data is unchanged.\n",
              "\n",
              "Constructing Series from a 1d ndarray with `copy=False`.\n",
              "\n",
              "&gt;&gt;&gt; r = np.array([1, 2])\n",
              "&gt;&gt;&gt; ser = pd.Series(r, copy=False)\n",
              "&gt;&gt;&gt; ser.iloc[0] = 999\n",
              "&gt;&gt;&gt; r\n",
              "array([999,   2])\n",
              "&gt;&gt;&gt; ser\n",
              "0    999\n",
              "1      2\n",
              "dtype: int64\n",
              "\n",
              "Due to input data type the Series has a `view` on\n",
              "the original data, so\n",
              "the data is changed as well.</pre>\n",
              "      <script>\n",
              "      if (google.colab.kernel.accessAllowed && google.colab.files && google.colab.files.view) {\n",
              "        for (const element of document.querySelectorAll('.filepath')) {\n",
              "          element.style.display = 'block'\n",
              "          element.onclick = (event) => {\n",
              "            event.preventDefault();\n",
              "            event.stopPropagation();\n",
              "            google.colab.files.view(element.textContent, 244);\n",
              "          };\n",
              "        }\n",
              "      }\n",
              "      for (const element of document.querySelectorAll('.function-repr-contents')) {\n",
              "        element.onclick = (event) => {\n",
              "          event.preventDefault();\n",
              "          event.stopPropagation();\n",
              "          element.classList.toggle('function-repr-contents-collapsed');\n",
              "        };\n",
              "      }\n",
              "      </script>\n",
              "      </div>"
            ]
          },
          "metadata": {},
          "execution_count": 11
        }
      ]
    },
    {
      "cell_type": "code",
      "source": [
        " #Tokeniser accpets ONLY string or list of strings\n",
        " #Hence iterate over each item of series x and y (created above) and form a list\n",
        "# create_list is fuction\n",
        "\n",
        "def create_list(series):\n",
        "  lst=[str(i)for i in series]\n",
        "  return lst"
      ],
      "metadata": {
        "id": "Qfj-45mb9I3j"
      },
      "execution_count": 12,
      "outputs": []
    },
    {
      "cell_type": "code",
      "source": [
        "xlist=create_list(x)\n",
        "ylist=create_list(y)\n"
      ],
      "metadata": {
        "id": "L4cr5Bmq9dzD"
      },
      "execution_count": 13,
      "outputs": []
    },
    {
      "cell_type": "code",
      "source": [
        "type(xlist), len(xlist), type(ylist), len(ylist)"
      ],
      "metadata": {
        "colab": {
          "base_uri": "https://localhost:8080/"
        },
        "id": "M0zXoxcQ-HjF",
        "outputId": "4971f29e-5c2d-474c-ab57-fd018d9005e5"
      },
      "execution_count": 14,
      "outputs": [
        {
          "output_type": "execute_result",
          "data": {
            "text/plain": [
              "(list, 3896, list, 3896)"
            ]
          },
          "metadata": {},
          "execution_count": 14
        }
      ]
    },
    {
      "cell_type": "code",
      "source": [
        "#SPLIT FOR TRAIN AND VALIDATION\n",
        "from sklearn.model_selection import train_test_split\n",
        "\n",
        "xtrain,xval,ytrain,yval= train_test_split(xlist,ylist, test_size=0.2, random_state=7)\n",
        "\n",
        "len(xtrain),len(xval),len(ytrain),len(yval)"
      ],
      "metadata": {
        "colab": {
          "base_uri": "https://localhost:8080/"
        },
        "id": "6fk0JH3mnY50",
        "outputId": "eeb6cab1-9903-4f08-ad26-7de1773239bf"
      },
      "execution_count": 15,
      "outputs": [
        {
          "output_type": "execute_result",
          "data": {
            "text/plain": [
              "(3116, 780, 3116, 780)"
            ]
          },
          "metadata": {},
          "execution_count": 15
        }
      ]
    },
    {
      "cell_type": "code",
      "source": [
        "type(xtrain),type(xval),type(ytrain),type(yval)"
      ],
      "metadata": {
        "colab": {
          "base_uri": "https://localhost:8080/"
        },
        "id": "miVEAh9IvrIa",
        "outputId": "bd430a53-0beb-463b-c9ab-94774d3710f7"
      },
      "execution_count": 16,
      "outputs": [
        {
          "output_type": "execute_result",
          "data": {
            "text/plain": [
              "(list, list, list, list)"
            ]
          },
          "metadata": {},
          "execution_count": 16
        }
      ]
    },
    {
      "cell_type": "markdown",
      "source": [
        "## Tokenization"
      ],
      "metadata": {
        "id": "VAWtja7foiV9"
      }
    },
    {
      "cell_type": "markdown",
      "source": [
        "### While using pretrained model, it’s important to use the associated pretrained tokenizer. This ensures the text is split the same way as the pretraining corpus, and uses the same corresponding tokens-to-index (usually referred to as the vocab) during pretraining."
      ],
      "metadata": {
        "id": "RR-diCXBmioA"
      }
    },
    {
      "cell_type": "code",
      "source": [
        "#from transformers import AutoTokenizer\n",
        "\n",
        "tokenizer=T5Tokenizer.from_pretrained('google-t5/t5-small')"
      ],
      "metadata": {
        "colab": {
          "base_uri": "https://localhost:8080/",
          "height": 272,
          "referenced_widgets": [
            "eb63401f1ef14f838736218e35403b7c",
            "a229bb7328ba4703ae8616d63e795911",
            "6c162ffaf39c4f1499f48f4822360fa6",
            "fe416c32b3734c6eb9cc5a02329862ac",
            "5f74221bbcab4ac2a52b377a60d0e400",
            "9eac4f154ea44a968c5c9f1ab453e5e6",
            "ca2f439ed9654102b8cc8bfda1935af3",
            "2a35b8b22b104e6eadb3fbf64c82fb15",
            "f060c796aa0b4f6294abb4d89b0e3441",
            "1f189f3907894ab995255b704b496fa8",
            "93ed6091f0f642af9cc0feeaf1c82f75",
            "4cfb4586477b4fc7b0568b5f7b53c849",
            "0bc8fbbb715849eda7be255e416e43ca",
            "60a30e7add3043739ee745e1a6205de6",
            "e6fac56300b945178143a16a470b9e56",
            "a950c5a588bb47b59a216274718625d6",
            "46fcf82c31544b71a1e740e6a52d68ee",
            "956bba7fac00421ba26a5ad0599d46dc",
            "b73124e7d26c441dbcc7363406df1050",
            "fd861646e90b4d4396ec0dfae3c4afc4",
            "2bdf2a7df36f4b49ad88a5015490516f",
            "c3f87e9493c04c8981302cd1ba6c8069",
            "bc5668833ec547fb8d5999dc2fb6522f",
            "e72244236636484bb0a6e0e1921bb6b1",
            "0f552e8f7f0748a1800d1dfabc93107e",
            "1b37448507c446ce88dc1cb9d1beef87",
            "be385fc1623f46a581201fc07d5c1180",
            "c40b51780b314bf28954a5636efd9c83",
            "06b2124dc61f4520bc5c93d88de1f63c",
            "d023255de61e4f80b1ab8b49f1c2c29a",
            "37416c418c564e96bae4e53571019c91",
            "856e50a3c29e454689a98f7ec7676f50",
            "d358d1352dcb4f619d8bd0310ce1b0ee"
          ]
        },
        "id": "Fe8UbzNWnBY7",
        "outputId": "a0211dcf-e914-4ce7-a126-02fcd37d445b"
      },
      "execution_count": 17,
      "outputs": [
        {
          "output_type": "stream",
          "name": "stderr",
          "text": [
            "/usr/local/lib/python3.10/dist-packages/huggingface_hub/utils/_token.py:89: UserWarning: \n",
            "The secret `HF_TOKEN` does not exist in your Colab secrets.\n",
            "To authenticate with the Hugging Face Hub, create a token in your settings tab (https://huggingface.co/settings/tokens), set it as secret in your Google Colab and restart your session.\n",
            "You will be able to reuse this secret in all of your notebooks.\n",
            "Please note that authentication is recommended but still optional to access public models or datasets.\n",
            "  warnings.warn(\n"
          ]
        },
        {
          "output_type": "display_data",
          "data": {
            "text/plain": [
              "tokenizer_config.json:   0%|          | 0.00/2.32k [00:00<?, ?B/s]"
            ],
            "application/vnd.jupyter.widget-view+json": {
              "version_major": 2,
              "version_minor": 0,
              "model_id": "eb63401f1ef14f838736218e35403b7c"
            }
          },
          "metadata": {}
        },
        {
          "output_type": "display_data",
          "data": {
            "text/plain": [
              "spiece.model:   0%|          | 0.00/792k [00:00<?, ?B/s]"
            ],
            "application/vnd.jupyter.widget-view+json": {
              "version_major": 2,
              "version_minor": 0,
              "model_id": "4cfb4586477b4fc7b0568b5f7b53c849"
            }
          },
          "metadata": {}
        },
        {
          "output_type": "display_data",
          "data": {
            "text/plain": [
              "tokenizer.json:   0%|          | 0.00/1.39M [00:00<?, ?B/s]"
            ],
            "application/vnd.jupyter.widget-view+json": {
              "version_major": 2,
              "version_minor": 0,
              "model_id": "bc5668833ec547fb8d5999dc2fb6522f"
            }
          },
          "metadata": {}
        },
        {
          "output_type": "stream",
          "name": "stderr",
          "text": [
            "You are using the default legacy behaviour of the <class 'transformers.models.t5.tokenization_t5.T5Tokenizer'>. This is expected, and simply means that the `legacy` (previous) behavior will be used so nothing changes for you. If you want to use the new behaviour, set `legacy=False`. This should only be set if you understand what it means, and thoroughly read the reason why this was added as explained in https://github.com/huggingface/transformers/pull/24565\n",
            "Special tokens have been added in the vocabulary, make sure the associated word embeddings are fine-tuned or trained.\n"
          ]
        }
      ]
    },
    {
      "cell_type": "code",
      "source": [
        "# TOKENIZER FUNCTION\n",
        "max_len=512\n",
        "def perform_tokenisation(text):\n",
        "  tokenized_item=tokenizer(text,return_tensors=\"pt\",max_length=max_len,truncation=True, padding='max_length')\n",
        "  return tokenized_item\n"
      ],
      "metadata": {
        "id": "GFp7UOer-8wg"
      },
      "execution_count": 18,
      "outputs": []
    },
    {
      "cell_type": "code",
      "source": [
        "# Tokenize input texts\n",
        "\n",
        "\n",
        "xtrain_text = perform_tokenisation(xtrain)\n",
        "ytrain_text = perform_tokenisation(ytrain)\n",
        "\n",
        "xval_text=perform_tokenisation(xval)\n",
        "yval_text=perform_tokenisation(yval)\n",
        "\n",
        "\n",
        "#truncation=True, padding=True,max_length=512, add_special_tokens=True, return_attention_mask=True"
      ],
      "metadata": {
        "id": "_v_Uj0PAomQ7"
      },
      "execution_count": 19,
      "outputs": []
    },
    {
      "cell_type": "markdown",
      "source": [
        "## Creating dataset objects to be read by Trainer"
      ],
      "metadata": {
        "id": "d-KwHnom4S_9"
      }
    },
    {
      "cell_type": "code",
      "source": [
        "# Convert tokenized encodings to dataset objects\n",
        "\n",
        "from datasets import Dataset\n",
        "\n",
        "train_dataset = Dataset.from_dict({\"input_ids\": xtrain_text[\"input_ids\"], \"attention_mask\": xtrain_text[\"attention_mask\"], \"labels\": ytrain_text[\"input_ids\"]})\n",
        "eval_dataset = Dataset.from_dict({\"input_ids\": xval_text[\"input_ids\"], \"attention_mask\":xval_text[\"attention_mask\"], \"labels\": yval_text[\"input_ids\"]})\n",
        "\n",
        "#NOTE: These dataset object will be given to Trainer. Trainer would need input seq also the output sequencce to measure the loss and trigger backpropogation."
      ],
      "metadata": {
        "id": "d1IPZO4-80Bc"
      },
      "execution_count": 20,
      "outputs": []
    },
    {
      "cell_type": "code",
      "source": [
        "train_dataset,eval_dataset\n"
      ],
      "metadata": {
        "colab": {
          "base_uri": "https://localhost:8080/"
        },
        "id": "649FaPSz9qdD",
        "outputId": "ab9feede-0833-486f-da02-c6aac92628f4"
      },
      "execution_count": 21,
      "outputs": [
        {
          "output_type": "execute_result",
          "data": {
            "text/plain": [
              "(Dataset({\n",
              "     features: ['input_ids', 'attention_mask', 'labels'],\n",
              "     num_rows: 3116\n",
              " }),\n",
              " Dataset({\n",
              "     features: ['input_ids', 'attention_mask', 'labels'],\n",
              "     num_rows: 780\n",
              " }))"
            ]
          },
          "metadata": {},
          "execution_count": 21
        }
      ]
    },
    {
      "cell_type": "markdown",
      "source": [
        "## Define Argumaents\n",
        "\n",
        "This set will be passed in trainer"
      ],
      "metadata": {
        "id": "TpGOITcQpaHU"
      }
    },
    {
      "cell_type": "code",
      "source": [
        "# picking  up values from one of Kaggle notebook\n",
        "\n",
        "training_args = TrainingArguments(\n",
        "    per_device_train_batch_size=4,\n",
        "    per_device_eval_batch_size=4,\n",
        "    num_train_epochs=3,\n",
        "    logging_dir='./logs',\n",
        "    logging_steps=100,\n",
        "    save_steps=1000,\n",
        "    evaluation_strategy=\"steps\",\n",
        "    output_dir='./results',\n",
        "    overwrite_output_dir=True,\n",
        ")\n"
      ],
      "metadata": {
        "id": "n2keiOfIpcXt"
      },
      "execution_count": 22,
      "outputs": []
    },
    {
      "cell_type": "markdown",
      "source": [
        "## Initialize model\n",
        "\n",
        "\n"
      ],
      "metadata": {
        "id": "0-t8Yy3mpeJ7"
      }
    },
    {
      "cell_type": "code",
      "source": [
        "model= T5ForConditionalGeneration.from_pretrained('t5-small')"
      ],
      "metadata": {
        "id": "s7aOmUD-plpd",
        "colab": {
          "base_uri": "https://localhost:8080/",
          "height": 113,
          "referenced_widgets": [
            "b49bcef178fd4f51bc0bf5cc82b867c3",
            "26b88ba8773e476f9af53c71e3f27f6c",
            "3939cfeaac5a43608859040aa523e2e2",
            "921fb6a5f6374ea89d427bb04cfe69f5",
            "8672fe6a71614783af456e0d4b0b828c",
            "ed61d911591c481b8b9d5fcd121bcd65",
            "3610cb3fac814d16881da6e045767d6b",
            "9348bad14a974a91a7416fd83ced1e5f",
            "fb3cdf6fa703428488ab88de1ceb279c",
            "10a53905cb3f47268fb5179c17ef2d97",
            "0ee79c967eb042f8840923b9d633a607",
            "417323f18f2e488eaec0323711250fb3",
            "2bf2386e418c419985b8449a851e7ff2",
            "f632fb0ed7aa4380aa3752b6f83b009e",
            "0ba1d05142264f53909608e323b33776",
            "bbb8cc48623d4328a4064cd4e365ed52",
            "747960b01d914c4085953606d6af072c",
            "a0e7f20da03d4b5bb8eda9f37feded90",
            "d7125ed3f7e649b8befcc6b6399f9439",
            "51aaf53bde8b46f7b6ff2600ce77fa6b",
            "9c55cde555f84452b86c7a267a00ce12",
            "1508c73dc4d34386a103cd9602fad108",
            "9173e6a5b8134d059ef80ab19dedf668",
            "b76a62d0baa04e43ae0efd412b5186cb",
            "8a338fe2a5a349ab8f6fead6111906b9",
            "f9b8ed3b85db4d5f84c59f613b11a894",
            "c346b0e90e1d45be91997790e70dc9b0",
            "9f1f8d63611142f8a92029688931a60d",
            "55917115f7254e9ea39957b674891ab2",
            "1aa88bf0acde44378d5bb44facabd14f",
            "daebe4d43cfa42b9b5d039f5584a83b6",
            "99c37e933d7149a48040765ef2d0579a",
            "16d1c6af1b07448e86fb781aae52ee96"
          ]
        },
        "outputId": "332955cd-493c-4356-9ad9-ef8ac327e1fa"
      },
      "execution_count": 23,
      "outputs": [
        {
          "output_type": "display_data",
          "data": {
            "text/plain": [
              "config.json:   0%|          | 0.00/1.21k [00:00<?, ?B/s]"
            ],
            "application/vnd.jupyter.widget-view+json": {
              "version_major": 2,
              "version_minor": 0,
              "model_id": "b49bcef178fd4f51bc0bf5cc82b867c3"
            }
          },
          "metadata": {}
        },
        {
          "output_type": "display_data",
          "data": {
            "text/plain": [
              "model.safetensors:   0%|          | 0.00/242M [00:00<?, ?B/s]"
            ],
            "application/vnd.jupyter.widget-view+json": {
              "version_major": 2,
              "version_minor": 0,
              "model_id": "417323f18f2e488eaec0323711250fb3"
            }
          },
          "metadata": {}
        },
        {
          "output_type": "display_data",
          "data": {
            "text/plain": [
              "generation_config.json:   0%|          | 0.00/147 [00:00<?, ?B/s]"
            ],
            "application/vnd.jupyter.widget-view+json": {
              "version_major": 2,
              "version_minor": 0,
              "model_id": "9173e6a5b8134d059ef80ab19dedf668"
            }
          },
          "metadata": {}
        }
      ]
    },
    {
      "cell_type": "markdown",
      "source": [
        "## Create Trainer"
      ],
      "metadata": {
        "id": "XViOqIkLpiV1"
      }
    },
    {
      "cell_type": "code",
      "source": [
        "trainer = Trainer(model=model,args=training_args,train_dataset=train_dataset,eval_dataset=eval_dataset)\n"
      ],
      "metadata": {
        "id": "Q_5g6-yLpkeU"
      },
      "execution_count": 24,
      "outputs": []
    },
    {
      "cell_type": "markdown",
      "source": [
        "## Train model\n"
      ],
      "metadata": {
        "id": "Fm3rcBCatOu5"
      }
    },
    {
      "cell_type": "code",
      "source": [
        "trainer.train()\n"
      ],
      "metadata": {
        "id": "4BC3R-UVprLz",
        "colab": {
          "base_uri": "https://localhost:8080/",
          "height": 831
        },
        "outputId": "3dfca50c-91b9-4b00-e81c-e1a814ef4b9d"
      },
      "execution_count": 25,
      "outputs": [
        {
          "output_type": "display_data",
          "data": {
            "text/plain": [
              "<IPython.core.display.HTML object>"
            ],
            "text/html": [
              "\n",
              "    <div>\n",
              "      \n",
              "      <progress value='2337' max='2337' style='width:300px; height:20px; vertical-align: middle;'></progress>\n",
              "      [2337/2337 23:58, Epoch 3/3]\n",
              "    </div>\n",
              "    <table border=\"1\" class=\"dataframe\">\n",
              "  <thead>\n",
              " <tr style=\"text-align: left;\">\n",
              "      <th>Step</th>\n",
              "      <th>Training Loss</th>\n",
              "      <th>Validation Loss</th>\n",
              "    </tr>\n",
              "  </thead>\n",
              "  <tbody>\n",
              "    <tr>\n",
              "      <td>100</td>\n",
              "      <td>2.810800</td>\n",
              "      <td>0.388352</td>\n",
              "    </tr>\n",
              "    <tr>\n",
              "      <td>200</td>\n",
              "      <td>0.415400</td>\n",
              "      <td>0.350106</td>\n",
              "    </tr>\n",
              "    <tr>\n",
              "      <td>300</td>\n",
              "      <td>0.378500</td>\n",
              "      <td>0.334570</td>\n",
              "    </tr>\n",
              "    <tr>\n",
              "      <td>400</td>\n",
              "      <td>0.359800</td>\n",
              "      <td>0.328780</td>\n",
              "    </tr>\n",
              "    <tr>\n",
              "      <td>500</td>\n",
              "      <td>0.370400</td>\n",
              "      <td>0.322657</td>\n",
              "    </tr>\n",
              "    <tr>\n",
              "      <td>600</td>\n",
              "      <td>0.353500</td>\n",
              "      <td>0.320173</td>\n",
              "    </tr>\n",
              "    <tr>\n",
              "      <td>700</td>\n",
              "      <td>0.355500</td>\n",
              "      <td>0.317999</td>\n",
              "    </tr>\n",
              "    <tr>\n",
              "      <td>800</td>\n",
              "      <td>0.343500</td>\n",
              "      <td>0.316760</td>\n",
              "    </tr>\n",
              "    <tr>\n",
              "      <td>900</td>\n",
              "      <td>0.349900</td>\n",
              "      <td>0.315873</td>\n",
              "    </tr>\n",
              "    <tr>\n",
              "      <td>1000</td>\n",
              "      <td>0.348000</td>\n",
              "      <td>0.313727</td>\n",
              "    </tr>\n",
              "    <tr>\n",
              "      <td>1100</td>\n",
              "      <td>0.344300</td>\n",
              "      <td>0.314099</td>\n",
              "    </tr>\n",
              "    <tr>\n",
              "      <td>1200</td>\n",
              "      <td>0.353200</td>\n",
              "      <td>0.312663</td>\n",
              "    </tr>\n",
              "    <tr>\n",
              "      <td>1300</td>\n",
              "      <td>0.323600</td>\n",
              "      <td>0.312280</td>\n",
              "    </tr>\n",
              "    <tr>\n",
              "      <td>1400</td>\n",
              "      <td>0.335400</td>\n",
              "      <td>0.311219</td>\n",
              "    </tr>\n",
              "    <tr>\n",
              "      <td>1500</td>\n",
              "      <td>0.324700</td>\n",
              "      <td>0.311759</td>\n",
              "    </tr>\n",
              "    <tr>\n",
              "      <td>1600</td>\n",
              "      <td>0.338500</td>\n",
              "      <td>0.310456</td>\n",
              "    </tr>\n",
              "    <tr>\n",
              "      <td>1700</td>\n",
              "      <td>0.325500</td>\n",
              "      <td>0.310639</td>\n",
              "    </tr>\n",
              "    <tr>\n",
              "      <td>1800</td>\n",
              "      <td>0.328900</td>\n",
              "      <td>0.309749</td>\n",
              "    </tr>\n",
              "    <tr>\n",
              "      <td>1900</td>\n",
              "      <td>0.334900</td>\n",
              "      <td>0.309990</td>\n",
              "    </tr>\n",
              "    <tr>\n",
              "      <td>2000</td>\n",
              "      <td>0.326400</td>\n",
              "      <td>0.309718</td>\n",
              "    </tr>\n",
              "    <tr>\n",
              "      <td>2100</td>\n",
              "      <td>0.331500</td>\n",
              "      <td>0.309336</td>\n",
              "    </tr>\n",
              "    <tr>\n",
              "      <td>2200</td>\n",
              "      <td>0.338500</td>\n",
              "      <td>0.309009</td>\n",
              "    </tr>\n",
              "    <tr>\n",
              "      <td>2300</td>\n",
              "      <td>0.329400</td>\n",
              "      <td>0.309022</td>\n",
              "    </tr>\n",
              "  </tbody>\n",
              "</table><p>"
            ]
          },
          "metadata": {}
        },
        {
          "output_type": "execute_result",
          "data": {
            "text/plain": [
              "TrainOutput(global_step=2337, training_loss=0.45104999852374317, metrics={'train_runtime': 1440.384, 'train_samples_per_second': 6.49, 'train_steps_per_second': 1.622, 'total_flos': 1265175160160256.0, 'train_loss': 0.45104999852374317, 'epoch': 3.0})"
            ]
          },
          "metadata": {},
          "execution_count": 25
        }
      ]
    },
    {
      "cell_type": "markdown",
      "source": [
        "## Evalute model"
      ],
      "metadata": {
        "id": "tJgMu4hnptiU"
      }
    },
    {
      "cell_type": "code",
      "source": [
        "trainer.evaluate()\n"
      ],
      "metadata": {
        "id": "naKMj3_OpvIk",
        "colab": {
          "base_uri": "https://localhost:8080/",
          "height": 124
        },
        "outputId": "b6285e14-ab01-491f-81dc-467975c3e78a"
      },
      "execution_count": 26,
      "outputs": [
        {
          "output_type": "display_data",
          "data": {
            "text/plain": [
              "<IPython.core.display.HTML object>"
            ],
            "text/html": [
              "\n",
              "    <div>\n",
              "      \n",
              "      <progress value='195' max='195' style='width:300px; height:20px; vertical-align: middle;'></progress>\n",
              "      [195/195 00:24]\n",
              "    </div>\n",
              "    "
            ]
          },
          "metadata": {}
        },
        {
          "output_type": "execute_result",
          "data": {
            "text/plain": [
              "{'eval_loss': 0.30901965498924255,\n",
              " 'eval_runtime': 24.3765,\n",
              " 'eval_samples_per_second': 31.998,\n",
              " 'eval_steps_per_second': 8.0,\n",
              " 'epoch': 3.0}"
            ]
          },
          "metadata": {},
          "execution_count": 26
        }
      ]
    },
    {
      "cell_type": "markdown",
      "source": [
        "# PREDICTION  ON TEST DATASET"
      ],
      "metadata": {
        "id": "OgYrl8B6N1mO"
      }
    },
    {
      "cell_type": "code",
      "source": [
        "# we have Xtest and ytest as test dataset\n",
        "len(xtest),len(ytest)"
      ],
      "metadata": {
        "colab": {
          "base_uri": "https://localhost:8080/"
        },
        "id": "y1eW6R0QN4j3",
        "outputId": "56ffda04-62e3-464c-a59a-c48b69d3c308"
      },
      "execution_count": 31,
      "outputs": [
        {
          "output_type": "execute_result",
          "data": {
            "text/plain": [
              "(500, 500)"
            ]
          },
          "metadata": {},
          "execution_count": 31
        }
      ]
    },
    {
      "cell_type": "code",
      "source": [
        "#Create list of xtest\n",
        "\n",
        "xtest_list=create_list(xtest)\n",
        "\n"
      ],
      "metadata": {
        "id": "1R45kv8tOyPL"
      },
      "execution_count": 32,
      "outputs": []
    },
    {
      "cell_type": "code",
      "source": [
        "#Tokenize xtest_list\n",
        "\n",
        "xtest_tokenized=perform_tokenisation(xtest_list)"
      ],
      "metadata": {
        "id": "4drLf-SmPO3q"
      },
      "execution_count": 50,
      "outputs": []
    },
    {
      "cell_type": "code",
      "source": [
        "xtest_tokenized"
      ],
      "metadata": {
        "colab": {
          "base_uri": "https://localhost:8080/"
        },
        "id": "-OhJSBsrPeBC",
        "outputId": "a1cac5c9-a736-4f99-e28d-41aa82484142"
      },
      "execution_count": 51,
      "outputs": [
        {
          "output_type": "execute_result",
          "data": {
            "text/plain": [
              "{'input_ids': tensor([[ 1248,  1737,    10,  ...,     0,     0,     0],\n",
              "        [ 1248,  1737,    10,  ...,     0,     0,     0],\n",
              "        [ 1248,  1737,    10,  ...,     0,     0,     0],\n",
              "        ...,\n",
              "        [ 1248,  1737,    10,  ..., 20676, 12402,     1],\n",
              "        [ 1248,  1737,    10,  ...,     0,     0,     0],\n",
              "        [ 1248,  1737,    10,  ...,     0,     0,     0]]), 'attention_mask': tensor([[1, 1, 1,  ..., 0, 0, 0],\n",
              "        [1, 1, 1,  ..., 0, 0, 0],\n",
              "        [1, 1, 1,  ..., 0, 0, 0],\n",
              "        ...,\n",
              "        [1, 1, 1,  ..., 1, 1, 1],\n",
              "        [1, 1, 1,  ..., 0, 0, 0],\n",
              "        [1, 1, 1,  ..., 0, 0, 0]])}"
            ]
          },
          "metadata": {},
          "execution_count": 51
        }
      ]
    },
    {
      "cell_type": "code",
      "source": [
        "#dataset object\n",
        "\n",
        "xtest_dataset = Dataset.from_dict({\"input_ids\": xtest_tokenized[\"input_ids\"], \"attention_mask\":xtest_tokenized[\"attention_mask\"]})\n"
      ],
      "metadata": {
        "id": "t0aeFr7TSFAS"
      },
      "execution_count": 53,
      "outputs": []
    },
    {
      "cell_type": "code",
      "source": [
        "xtest_dataset"
      ],
      "metadata": {
        "colab": {
          "base_uri": "https://localhost:8080/"
        },
        "id": "H8kNtkceSa4k",
        "outputId": "9a1ab404-26fc-46f2-fa22-bc79b5c5b3c1"
      },
      "execution_count": 54,
      "outputs": [
        {
          "output_type": "execute_result",
          "data": {
            "text/plain": [
              "Dataset({\n",
              "    features: ['input_ids', 'attention_mask'],\n",
              "    num_rows: 500\n",
              "})"
            ]
          },
          "metadata": {},
          "execution_count": 54
        }
      ]
    },
    {
      "cell_type": "code",
      "source": [
        "raw_pred= trainer.predict(xtest_dataset)"
      ],
      "metadata": {
        "colab": {
          "base_uri": "https://localhost:8080/",
          "height": 304
        },
        "id": "Po-UAXGOPnoe",
        "outputId": "3e140426-5e45-4bad-fdba-e256c4c6f3d1"
      },
      "execution_count": 67,
      "outputs": [
        {
          "output_type": "error",
          "ename": "ValueError",
          "evalue": "You have to specify either decoder_input_ids or decoder_inputs_embeds",
          "traceback": [
            "\u001b[0;31m---------------------------------------------------------------------------\u001b[0m",
            "\u001b[0;31mValueError\u001b[0m                                Traceback (most recent call last)",
            "\u001b[0;32m<ipython-input-67-128fd99bb76a>\u001b[0m in \u001b[0;36m<cell line: 1>\u001b[0;34m()\u001b[0m\n\u001b[0;32m----> 1\u001b[0;31m \u001b[0mraw_pred\u001b[0m\u001b[0;34m=\u001b[0m \u001b[0mtrainer\u001b[0m\u001b[0;34m.\u001b[0m\u001b[0mpredict\u001b[0m\u001b[0;34m(\u001b[0m\u001b[0mxtest_dataset\u001b[0m\u001b[0;34m)\u001b[0m\u001b[0;34m\u001b[0m\u001b[0;34m\u001b[0m\u001b[0m\n\u001b[0m",
            "\u001b[0;32m/usr/local/lib/python3.10/dist-packages/transformers/trainer.py\u001b[0m in \u001b[0;36mpredict\u001b[0;34m(self, test_dataset, ignore_keys, metric_key_prefix)\u001b[0m\n\u001b[1;32m   3541\u001b[0m \u001b[0;34m\u001b[0m\u001b[0m\n\u001b[1;32m   3542\u001b[0m         \u001b[0meval_loop\u001b[0m \u001b[0;34m=\u001b[0m \u001b[0mself\u001b[0m\u001b[0;34m.\u001b[0m\u001b[0mprediction_loop\u001b[0m \u001b[0;32mif\u001b[0m \u001b[0mself\u001b[0m\u001b[0;34m.\u001b[0m\u001b[0margs\u001b[0m\u001b[0;34m.\u001b[0m\u001b[0muse_legacy_prediction_loop\u001b[0m \u001b[0;32melse\u001b[0m \u001b[0mself\u001b[0m\u001b[0;34m.\u001b[0m\u001b[0mevaluation_loop\u001b[0m\u001b[0;34m\u001b[0m\u001b[0;34m\u001b[0m\u001b[0m\n\u001b[0;32m-> 3543\u001b[0;31m         output = eval_loop(\n\u001b[0m\u001b[1;32m   3544\u001b[0m             \u001b[0mtest_dataloader\u001b[0m\u001b[0;34m,\u001b[0m \u001b[0mdescription\u001b[0m\u001b[0;34m=\u001b[0m\u001b[0;34m\"Prediction\"\u001b[0m\u001b[0;34m,\u001b[0m \u001b[0mignore_keys\u001b[0m\u001b[0;34m=\u001b[0m\u001b[0mignore_keys\u001b[0m\u001b[0;34m,\u001b[0m \u001b[0mmetric_key_prefix\u001b[0m\u001b[0;34m=\u001b[0m\u001b[0mmetric_key_prefix\u001b[0m\u001b[0;34m\u001b[0m\u001b[0;34m\u001b[0m\u001b[0m\n\u001b[1;32m   3545\u001b[0m         )\n",
            "\u001b[0;32m/usr/local/lib/python3.10/dist-packages/transformers/trainer.py\u001b[0m in \u001b[0;36mevaluation_loop\u001b[0;34m(self, dataloader, description, prediction_loss_only, ignore_keys, metric_key_prefix)\u001b[0m\n\u001b[1;32m   3648\u001b[0m \u001b[0;34m\u001b[0m\u001b[0m\n\u001b[1;32m   3649\u001b[0m             \u001b[0;31m# Prediction step\u001b[0m\u001b[0;34m\u001b[0m\u001b[0;34m\u001b[0m\u001b[0m\n\u001b[0;32m-> 3650\u001b[0;31m             \u001b[0mloss\u001b[0m\u001b[0;34m,\u001b[0m \u001b[0mlogits\u001b[0m\u001b[0;34m,\u001b[0m \u001b[0mlabels\u001b[0m \u001b[0;34m=\u001b[0m \u001b[0mself\u001b[0m\u001b[0;34m.\u001b[0m\u001b[0mprediction_step\u001b[0m\u001b[0;34m(\u001b[0m\u001b[0mmodel\u001b[0m\u001b[0;34m,\u001b[0m \u001b[0minputs\u001b[0m\u001b[0;34m,\u001b[0m \u001b[0mprediction_loss_only\u001b[0m\u001b[0;34m,\u001b[0m \u001b[0mignore_keys\u001b[0m\u001b[0;34m=\u001b[0m\u001b[0mignore_keys\u001b[0m\u001b[0;34m)\u001b[0m\u001b[0;34m\u001b[0m\u001b[0;34m\u001b[0m\u001b[0m\n\u001b[0m\u001b[1;32m   3651\u001b[0m             \u001b[0mmain_input_name\u001b[0m \u001b[0;34m=\u001b[0m \u001b[0mgetattr\u001b[0m\u001b[0;34m(\u001b[0m\u001b[0mself\u001b[0m\u001b[0;34m.\u001b[0m\u001b[0mmodel\u001b[0m\u001b[0;34m,\u001b[0m \u001b[0;34m\"main_input_name\"\u001b[0m\u001b[0;34m,\u001b[0m \u001b[0;34m\"input_ids\"\u001b[0m\u001b[0;34m)\u001b[0m\u001b[0;34m\u001b[0m\u001b[0;34m\u001b[0m\u001b[0m\n\u001b[1;32m   3652\u001b[0m             \u001b[0minputs_decode\u001b[0m \u001b[0;34m=\u001b[0m \u001b[0mself\u001b[0m\u001b[0;34m.\u001b[0m\u001b[0m_prepare_input\u001b[0m\u001b[0;34m(\u001b[0m\u001b[0minputs\u001b[0m\u001b[0;34m[\u001b[0m\u001b[0mmain_input_name\u001b[0m\u001b[0;34m]\u001b[0m\u001b[0;34m)\u001b[0m \u001b[0;32mif\u001b[0m \u001b[0margs\u001b[0m\u001b[0;34m.\u001b[0m\u001b[0minclude_inputs_for_metrics\u001b[0m \u001b[0;32melse\u001b[0m \u001b[0;32mNone\u001b[0m\u001b[0;34m\u001b[0m\u001b[0;34m\u001b[0m\u001b[0m\n",
            "\u001b[0;32m/usr/local/lib/python3.10/dist-packages/transformers/trainer.py\u001b[0m in \u001b[0;36mprediction_step\u001b[0;34m(self, model, inputs, prediction_loss_only, ignore_keys)\u001b[0m\n\u001b[1;32m   3844\u001b[0m                     \u001b[0mloss\u001b[0m \u001b[0;34m=\u001b[0m \u001b[0;32mNone\u001b[0m\u001b[0;34m\u001b[0m\u001b[0;34m\u001b[0m\u001b[0m\n\u001b[1;32m   3845\u001b[0m                     \u001b[0;32mwith\u001b[0m \u001b[0mself\u001b[0m\u001b[0;34m.\u001b[0m\u001b[0mcompute_loss_context_manager\u001b[0m\u001b[0;34m(\u001b[0m\u001b[0;34m)\u001b[0m\u001b[0;34m:\u001b[0m\u001b[0;34m\u001b[0m\u001b[0;34m\u001b[0m\u001b[0m\n\u001b[0;32m-> 3846\u001b[0;31m                         \u001b[0moutputs\u001b[0m \u001b[0;34m=\u001b[0m \u001b[0mmodel\u001b[0m\u001b[0;34m(\u001b[0m\u001b[0;34m**\u001b[0m\u001b[0minputs\u001b[0m\u001b[0;34m)\u001b[0m\u001b[0;34m\u001b[0m\u001b[0;34m\u001b[0m\u001b[0m\n\u001b[0m\u001b[1;32m   3847\u001b[0m                     \u001b[0;32mif\u001b[0m \u001b[0misinstance\u001b[0m\u001b[0;34m(\u001b[0m\u001b[0moutputs\u001b[0m\u001b[0;34m,\u001b[0m \u001b[0mdict\u001b[0m\u001b[0;34m)\u001b[0m\u001b[0;34m:\u001b[0m\u001b[0;34m\u001b[0m\u001b[0;34m\u001b[0m\u001b[0m\n\u001b[1;32m   3848\u001b[0m                         \u001b[0mlogits\u001b[0m \u001b[0;34m=\u001b[0m \u001b[0mtuple\u001b[0m\u001b[0;34m(\u001b[0m\u001b[0mv\u001b[0m \u001b[0;32mfor\u001b[0m \u001b[0mk\u001b[0m\u001b[0;34m,\u001b[0m \u001b[0mv\u001b[0m \u001b[0;32min\u001b[0m \u001b[0moutputs\u001b[0m\u001b[0;34m.\u001b[0m\u001b[0mitems\u001b[0m\u001b[0;34m(\u001b[0m\u001b[0;34m)\u001b[0m \u001b[0;32mif\u001b[0m \u001b[0mk\u001b[0m \u001b[0;32mnot\u001b[0m \u001b[0;32min\u001b[0m \u001b[0mignore_keys\u001b[0m\u001b[0;34m)\u001b[0m\u001b[0;34m\u001b[0m\u001b[0;34m\u001b[0m\u001b[0m\n",
            "\u001b[0;32m/usr/local/lib/python3.10/dist-packages/torch/nn/modules/module.py\u001b[0m in \u001b[0;36m_wrapped_call_impl\u001b[0;34m(self, *args, **kwargs)\u001b[0m\n\u001b[1;32m   1509\u001b[0m             \u001b[0;32mreturn\u001b[0m \u001b[0mself\u001b[0m\u001b[0;34m.\u001b[0m\u001b[0m_compiled_call_impl\u001b[0m\u001b[0;34m(\u001b[0m\u001b[0;34m*\u001b[0m\u001b[0margs\u001b[0m\u001b[0;34m,\u001b[0m \u001b[0;34m**\u001b[0m\u001b[0mkwargs\u001b[0m\u001b[0;34m)\u001b[0m  \u001b[0;31m# type: ignore[misc]\u001b[0m\u001b[0;34m\u001b[0m\u001b[0;34m\u001b[0m\u001b[0m\n\u001b[1;32m   1510\u001b[0m         \u001b[0;32melse\u001b[0m\u001b[0;34m:\u001b[0m\u001b[0;34m\u001b[0m\u001b[0;34m\u001b[0m\u001b[0m\n\u001b[0;32m-> 1511\u001b[0;31m             \u001b[0;32mreturn\u001b[0m \u001b[0mself\u001b[0m\u001b[0;34m.\u001b[0m\u001b[0m_call_impl\u001b[0m\u001b[0;34m(\u001b[0m\u001b[0;34m*\u001b[0m\u001b[0margs\u001b[0m\u001b[0;34m,\u001b[0m \u001b[0;34m**\u001b[0m\u001b[0mkwargs\u001b[0m\u001b[0;34m)\u001b[0m\u001b[0;34m\u001b[0m\u001b[0;34m\u001b[0m\u001b[0m\n\u001b[0m\u001b[1;32m   1512\u001b[0m \u001b[0;34m\u001b[0m\u001b[0m\n\u001b[1;32m   1513\u001b[0m     \u001b[0;32mdef\u001b[0m \u001b[0m_call_impl\u001b[0m\u001b[0;34m(\u001b[0m\u001b[0mself\u001b[0m\u001b[0;34m,\u001b[0m \u001b[0;34m*\u001b[0m\u001b[0margs\u001b[0m\u001b[0;34m,\u001b[0m \u001b[0;34m**\u001b[0m\u001b[0mkwargs\u001b[0m\u001b[0;34m)\u001b[0m\u001b[0;34m:\u001b[0m\u001b[0;34m\u001b[0m\u001b[0;34m\u001b[0m\u001b[0m\n",
            "\u001b[0;32m/usr/local/lib/python3.10/dist-packages/torch/nn/modules/module.py\u001b[0m in \u001b[0;36m_call_impl\u001b[0;34m(self, *args, **kwargs)\u001b[0m\n\u001b[1;32m   1518\u001b[0m                 \u001b[0;32mor\u001b[0m \u001b[0m_global_backward_pre_hooks\u001b[0m \u001b[0;32mor\u001b[0m \u001b[0m_global_backward_hooks\u001b[0m\u001b[0;34m\u001b[0m\u001b[0;34m\u001b[0m\u001b[0m\n\u001b[1;32m   1519\u001b[0m                 or _global_forward_hooks or _global_forward_pre_hooks):\n\u001b[0;32m-> 1520\u001b[0;31m             \u001b[0;32mreturn\u001b[0m \u001b[0mforward_call\u001b[0m\u001b[0;34m(\u001b[0m\u001b[0;34m*\u001b[0m\u001b[0margs\u001b[0m\u001b[0;34m,\u001b[0m \u001b[0;34m**\u001b[0m\u001b[0mkwargs\u001b[0m\u001b[0;34m)\u001b[0m\u001b[0;34m\u001b[0m\u001b[0;34m\u001b[0m\u001b[0m\n\u001b[0m\u001b[1;32m   1521\u001b[0m \u001b[0;34m\u001b[0m\u001b[0m\n\u001b[1;32m   1522\u001b[0m         \u001b[0;32mtry\u001b[0m\u001b[0;34m:\u001b[0m\u001b[0;34m\u001b[0m\u001b[0;34m\u001b[0m\u001b[0m\n",
            "\u001b[0;32m/usr/local/lib/python3.10/dist-packages/transformers/models/t5/modeling_t5.py\u001b[0m in \u001b[0;36mforward\u001b[0;34m(self, input_ids, attention_mask, decoder_input_ids, decoder_attention_mask, head_mask, decoder_head_mask, cross_attn_head_mask, encoder_outputs, past_key_values, inputs_embeds, decoder_inputs_embeds, labels, use_cache, output_attentions, output_hidden_states, return_dict)\u001b[0m\n\u001b[1;32m   1740\u001b[0m \u001b[0;34m\u001b[0m\u001b[0m\n\u001b[1;32m   1741\u001b[0m         \u001b[0;31m# Decode\u001b[0m\u001b[0;34m\u001b[0m\u001b[0;34m\u001b[0m\u001b[0m\n\u001b[0;32m-> 1742\u001b[0;31m         decoder_outputs = self.decoder(\n\u001b[0m\u001b[1;32m   1743\u001b[0m             \u001b[0minput_ids\u001b[0m\u001b[0;34m=\u001b[0m\u001b[0mdecoder_input_ids\u001b[0m\u001b[0;34m,\u001b[0m\u001b[0;34m\u001b[0m\u001b[0;34m\u001b[0m\u001b[0m\n\u001b[1;32m   1744\u001b[0m             \u001b[0mattention_mask\u001b[0m\u001b[0;34m=\u001b[0m\u001b[0mdecoder_attention_mask\u001b[0m\u001b[0;34m,\u001b[0m\u001b[0;34m\u001b[0m\u001b[0;34m\u001b[0m\u001b[0m\n",
            "\u001b[0;32m/usr/local/lib/python3.10/dist-packages/torch/nn/modules/module.py\u001b[0m in \u001b[0;36m_wrapped_call_impl\u001b[0;34m(self, *args, **kwargs)\u001b[0m\n\u001b[1;32m   1509\u001b[0m             \u001b[0;32mreturn\u001b[0m \u001b[0mself\u001b[0m\u001b[0;34m.\u001b[0m\u001b[0m_compiled_call_impl\u001b[0m\u001b[0;34m(\u001b[0m\u001b[0;34m*\u001b[0m\u001b[0margs\u001b[0m\u001b[0;34m,\u001b[0m \u001b[0;34m**\u001b[0m\u001b[0mkwargs\u001b[0m\u001b[0;34m)\u001b[0m  \u001b[0;31m# type: ignore[misc]\u001b[0m\u001b[0;34m\u001b[0m\u001b[0;34m\u001b[0m\u001b[0m\n\u001b[1;32m   1510\u001b[0m         \u001b[0;32melse\u001b[0m\u001b[0;34m:\u001b[0m\u001b[0;34m\u001b[0m\u001b[0;34m\u001b[0m\u001b[0m\n\u001b[0;32m-> 1511\u001b[0;31m             \u001b[0;32mreturn\u001b[0m \u001b[0mself\u001b[0m\u001b[0;34m.\u001b[0m\u001b[0m_call_impl\u001b[0m\u001b[0;34m(\u001b[0m\u001b[0;34m*\u001b[0m\u001b[0margs\u001b[0m\u001b[0;34m,\u001b[0m \u001b[0;34m**\u001b[0m\u001b[0mkwargs\u001b[0m\u001b[0;34m)\u001b[0m\u001b[0;34m\u001b[0m\u001b[0;34m\u001b[0m\u001b[0m\n\u001b[0m\u001b[1;32m   1512\u001b[0m \u001b[0;34m\u001b[0m\u001b[0m\n\u001b[1;32m   1513\u001b[0m     \u001b[0;32mdef\u001b[0m \u001b[0m_call_impl\u001b[0m\u001b[0;34m(\u001b[0m\u001b[0mself\u001b[0m\u001b[0;34m,\u001b[0m \u001b[0;34m*\u001b[0m\u001b[0margs\u001b[0m\u001b[0;34m,\u001b[0m \u001b[0;34m**\u001b[0m\u001b[0mkwargs\u001b[0m\u001b[0;34m)\u001b[0m\u001b[0;34m:\u001b[0m\u001b[0;34m\u001b[0m\u001b[0;34m\u001b[0m\u001b[0m\n",
            "\u001b[0;32m/usr/local/lib/python3.10/dist-packages/torch/nn/modules/module.py\u001b[0m in \u001b[0;36m_call_impl\u001b[0;34m(self, *args, **kwargs)\u001b[0m\n\u001b[1;32m   1518\u001b[0m                 \u001b[0;32mor\u001b[0m \u001b[0m_global_backward_pre_hooks\u001b[0m \u001b[0;32mor\u001b[0m \u001b[0m_global_backward_hooks\u001b[0m\u001b[0;34m\u001b[0m\u001b[0;34m\u001b[0m\u001b[0m\n\u001b[1;32m   1519\u001b[0m                 or _global_forward_hooks or _global_forward_pre_hooks):\n\u001b[0;32m-> 1520\u001b[0;31m             \u001b[0;32mreturn\u001b[0m \u001b[0mforward_call\u001b[0m\u001b[0;34m(\u001b[0m\u001b[0;34m*\u001b[0m\u001b[0margs\u001b[0m\u001b[0;34m,\u001b[0m \u001b[0;34m**\u001b[0m\u001b[0mkwargs\u001b[0m\u001b[0;34m)\u001b[0m\u001b[0;34m\u001b[0m\u001b[0;34m\u001b[0m\u001b[0m\n\u001b[0m\u001b[1;32m   1521\u001b[0m \u001b[0;34m\u001b[0m\u001b[0m\n\u001b[1;32m   1522\u001b[0m         \u001b[0;32mtry\u001b[0m\u001b[0;34m:\u001b[0m\u001b[0;34m\u001b[0m\u001b[0;34m\u001b[0m\u001b[0m\n",
            "\u001b[0;32m/usr/local/lib/python3.10/dist-packages/transformers/models/t5/modeling_t5.py\u001b[0m in \u001b[0;36mforward\u001b[0;34m(self, input_ids, attention_mask, encoder_hidden_states, encoder_attention_mask, inputs_embeds, head_mask, cross_attn_head_mask, past_key_values, use_cache, output_attentions, output_hidden_states, return_dict)\u001b[0m\n\u001b[1;32m   1008\u001b[0m         \u001b[0;32melse\u001b[0m\u001b[0;34m:\u001b[0m\u001b[0;34m\u001b[0m\u001b[0;34m\u001b[0m\u001b[0m\n\u001b[1;32m   1009\u001b[0m             \u001b[0merr_msg_prefix\u001b[0m \u001b[0;34m=\u001b[0m \u001b[0;34m\"decoder_\"\u001b[0m \u001b[0;32mif\u001b[0m \u001b[0mself\u001b[0m\u001b[0;34m.\u001b[0m\u001b[0mis_decoder\u001b[0m \u001b[0;32melse\u001b[0m \u001b[0;34m\"\"\u001b[0m\u001b[0;34m\u001b[0m\u001b[0;34m\u001b[0m\u001b[0m\n\u001b[0;32m-> 1010\u001b[0;31m             \u001b[0;32mraise\u001b[0m \u001b[0mValueError\u001b[0m\u001b[0;34m(\u001b[0m\u001b[0;34mf\"You have to specify either {err_msg_prefix}input_ids or {err_msg_prefix}inputs_embeds\"\u001b[0m\u001b[0;34m)\u001b[0m\u001b[0;34m\u001b[0m\u001b[0;34m\u001b[0m\u001b[0m\n\u001b[0m\u001b[1;32m   1011\u001b[0m \u001b[0;34m\u001b[0m\u001b[0m\n\u001b[1;32m   1012\u001b[0m         \u001b[0;32mif\u001b[0m \u001b[0minputs_embeds\u001b[0m \u001b[0;32mis\u001b[0m \u001b[0;32mNone\u001b[0m\u001b[0;34m:\u001b[0m\u001b[0;34m\u001b[0m\u001b[0;34m\u001b[0m\u001b[0m\n",
            "\u001b[0;31mValueError\u001b[0m: You have to specify either decoder_input_ids or decoder_inputs_embeds"
          ]
        }
      ]
    },
    {
      "cell_type": "markdown",
      "source": [
        "## PICKLE THE MODEL"
      ],
      "metadata": {
        "id": "wOZD07qZI5x1"
      }
    },
    {
      "cell_type": "code",
      "source": [
        "import pickle\n",
        "\n",
        "file_path = \"tunedT5_Summerisation.pkl\"\n",
        "\n",
        "with open(file_path, \"wb\") as f:\n",
        "    pickle.dump(model, f)\n",
        "\n",
        "print(\"Model pickled successfully!\")\n"
      ],
      "metadata": {
        "colab": {
          "base_uri": "https://localhost:8080/"
        },
        "id": "pnxMkhOWr78U",
        "outputId": "8288fc0b-c528-457e-9d66-b792e60a6a8a"
      },
      "execution_count": null,
      "outputs": [
        {
          "output_type": "stream",
          "name": "stdout",
          "text": [
            "Model pickled successfully!\n"
          ]
        }
      ]
    }
  ]
}