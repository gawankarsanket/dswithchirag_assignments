{
  "cells": [
    {
      "cell_type": "markdown",
      "metadata": {
        "id": "view-in-github",
        "colab_type": "text"
      },
      "source": [
        "<a href=\"https://colab.research.google.com/github/gawankarsanket/dswithchirag_assignments/blob/main/Assignment_Derivatives%2C_Critical_Points%2C_and_Gradient_Descent.ipynb\" target=\"_parent\"><img src=\"https://colab.research.google.com/assets/colab-badge.svg\" alt=\"Open In Colab\"/></a>"
      ]
    },
    {
      "cell_type": "markdown",
      "metadata": {
        "id": "VW-OLwRBxShN"
      },
      "source": [
        "#Assignment: Derivatives, Critical Points, and Gradient Descent"
      ]
    },
    {
      "cell_type": "markdown",
      "metadata": {
        "id": "43qqOCw3xYH9"
      },
      "source": [
        "##Question 1: First Order Derivative\n",
        "Consider the function 𝑓(𝑥) = 3𝑥2 + 5𝑥 + 2\n",
        "a) Find the first-order derivative 𝑓 . ′(𝑥)\n",
        "b) Determine the critical points of 𝑓(𝑥) by setting 𝑓 and solving for . ′(𝑥) = 0 𝑥\n",
        "c) Use the first-order derivative test to classify each critical point as a local minimum, local\n",
        "maximum, or neither."
      ]
    },
    {
      "cell_type": "code",
      "execution_count": null,
      "metadata": {
        "id": "PGf07r4QxPxk"
      },
      "outputs": [],
      "source": [
        "\"\"\"\n",
        "f(x) = 3x2+5x+2\n",
        "\n",
        "(a)\n",
        "    First order derivative f'(x)\n",
        "    f'(x)=2*3x + 5  = 6x+5\n",
        "\n",
        "(b) critical points .  The point (value of x) at which slope / first-order\n",
        "    derivative is 0\n",
        "\n",
        "for f'(x)=0   ==>  6x+5=0  ==> x= -5/6\n",
        "\n",
        "x= -5/6 is the critical point as slope ie f'(x)=0 at this point\n",
        "\n",
        "so this point can be minima or maxima for this function\n",
        "\n",
        "(c)  lets find f(x) at the critical point\n",
        "f(-5/6)  = 3*(-5/6)^2 + 5*(-5/6)+2  = -0.083\n",
        "Plot a graph and see if its lowest point in the function\n",
        "\n",
        "\"\"\"\n",
        "\n"
      ]
    },
    {
      "cell_type": "code",
      "execution_count": null,
      "metadata": {
        "colab": {
          "background_save": true
        },
        "id": "uVz4klAKU5dA"
      },
      "outputs": [],
      "source": [
        "#Lets try to plot the graph\n",
        "import numpy as np\n",
        "import matplotlib.pyplot as plt\n",
        "\n",
        "# Define the function and its derivative\n",
        "def f(x):\n",
        "    return 3 * x**2 + 5 * x + 2\n",
        "\n",
        "def f_dash(x):\n",
        "    return 6 * x + 5\n",
        "\n",
        "# Generate x values  -5 to +5 take total 20 values means interval of 0.5\n",
        "x_values = np.linspace(-5, 5, 20)\n",
        "# Generate corresponding y values for the function and its derivative\n",
        "y_values = f(x_values)\n",
        "y_dash_values = f_dash(x_values)\n",
        "\n",
        "# Find the critical point\n",
        "critical_point = -5/6\n",
        "critical_point_y = f(critical_point)\n",
        "\n",
        "\n",
        "# Plot the function in graph\n",
        "\n",
        "plt.figure(figsize=(5, 3))\n",
        "plt.plot(x_values, y_values, label='f(x) = 3x^2 + 5x + 2')\n",
        "plt.plot(x_values, y_dash_values, label=\"f'(x) = 6x + 5\", linestyle='--')\n",
        "plt.scatter(critical_point, critical_point_y, color='red', marker='o')\n",
        "\n",
        "# Add labels and title\n",
        "plt.xlabel('x')\n",
        "plt.ylabel('y')\n",
        "plt.title('Function')\n",
        "plt.grid(True)\n",
        "\n",
        "# Show the critical point on the chart\n",
        "plt.annotate(f'Critical Point (x={critical_point:0.2f}, f(x)={critical_point_y:0.2f})',\n",
        "             xy=(critical_point, critical_point_y),xycoords='data',\n",
        "             xytext=(-80, -50),textcoords='offset pixels',\n",
        "             arrowprops=dict(arrowstyle=\"->\", connectionstyle=\"arc3,rad=0.1\"))\n",
        "\n",
        "\n",
        "# Show the plot\n",
        "\n",
        "plt.show()"
      ]
    },
    {
      "cell_type": "code",
      "execution_count": null,
      "metadata": {
        "colab": {
          "base_uri": "https://localhost:8080/",
          "height": 333
        },
        "id": "ds3Qy-NO3XM1",
        "outputId": "ce1e3c54-bd3b-4073-dcaa-0bb8bca14228"
      },
      "outputs": [
        {
          "data": {
            "image/png": "[encoded data removed]",
            "text/plain": [
              "<Figure size 500x300 with 1 Axes>"
            ]
          },
          "metadata": {},
          "output_type": "display_data"
        }
      ],
      "source": [
        "\n"
      ]
    },
    {
      "cell_type": "markdown",
      "metadata": {
        "id": "CQEJ1Xi6ZnN_"
      },
      "source": [
        "### As we see in above graph, at critical value x=-0.83 / -5/6; f(x) -0.08 and is minimnum.\n"
      ]
    },
    {
      "cell_type": "markdown",
      "metadata": {
        "id": "rF5X2zyvaZMZ"
      },
      "source": [
        "##Question 2: Second Order Derivative\n",
        "Continuing from Question 1, let 𝑓(𝑥) = 3𝑥2 + 5𝑥 + 2\n",
        "a) Find the second-order derivative 𝑓 . ′′(𝑥)\n",
        "b) Evaluate 𝑓 at the critical points found in Question 1. ′′(𝑥)\n",
        "c) Use the second-order derivative test to determine whether each critical point is a local\n",
        "minimum, local maximum, or neither."
      ]
    },
    {
      "cell_type": "code",
      "execution_count": null,
      "metadata": {
        "id": "Jt2Ma2fIafhx"
      },
      "outputs": [],
      "source": [
        "\"\"\"\n",
        "f(x) = 3x2+5x+2\n",
        "f'(x)=6x+5\n",
        "\n",
        "(a) Second order derivative\n",
        "    f\"(x)=6\n",
        "\n",
        "    f\"(x)  is constant 6 at all values of x\n",
        "\n",
        "(c) determine whether local minimum or maximum\n",
        "    as f\"(x)>0  ie positive, function has minima at this critical point.\n",
        "\n",
        "\n",
        "\n"
      ]
    },
    {
      "cell_type": "markdown",
      "metadata": {
        "id": "4HD4HHB6kM7g"
      },
      "source": [
        "##Question 3: Chain Rule\n",
        "Consider the functions 𝑔(𝑢) = 𝑢^3 and h(x)=2x-1, where u is a function of x, ie u=h(x)\n",
        "\n",
        "a) Find 𝑔'(u) and  ℎ′(𝑥)\n",
        "b) Apply the chain rule to find ."
      ]
    },
    {
      "cell_type": "code",
      "execution_count": 1,
      "metadata": {
        "id": "wikZdFsmkMZQ",
        "colab": {
          "base_uri": "https://localhost:8080/",
          "height": 53
        },
        "outputId": "d5ecabe5-bc57-4401-8ced-740b31362f70"
      },
      "outputs": [
        {
          "output_type": "execute_result",
          "data": {
            "text/plain": [
              "\"\\nh(x)=2x-1\\ng(𝑢) = 𝑢^3\\nu=h(x)\\n\\n(a) Finding first order derivative\\n\\n    g(u) = u^3  -----> dg/du = g'(u)= 3u^2\\n    h(x)=2x-1   -----> dh/dx=  h'(x)=2\\n    u=h(x)     ------> du/dx = dh/dx\\n\\n(b) chain rule\\n\\n  dg/dx = dg/du * du/dx\\n\\n        =dg/du * dh/dx\\n        =3u^2  * 2\\n        =6u^2\\n\\n        As u=h(x)= 2x-1\\nhence\\n  dg/dx = 6*(2x-1)^2\\n\""
            ],
            "application/vnd.google.colaboratory.intrinsic+json": {
              "type": "string"
            }
          },
          "metadata": {},
          "execution_count": 1
        }
      ],
      "source": [
        "\"\"\"\n",
        "h(x)=2x-1\n",
        "g(𝑢) = 𝑢^3\n",
        "u=h(x)\n",
        "\n",
        "(a) Finding first order derivative\n",
        "\n",
        "    g(u) = u^3  -----> dg/du = g'(u)= 3u^2\n",
        "    h(x)=2x-1   -----> dh/dx=  h'(x)=2\n",
        "    u=h(x)     ------> du/dx = dh/dx\n",
        "\n",
        "(b) chain rule\n",
        "\n",
        "  dg/dx = dg/du * du/dx\n",
        "\n",
        "        =dg/du * dh/dx\n",
        "        =3u^2  * 2\n",
        "        =6u^2\n",
        "\n",
        "        As u=h(x)= 2x-1\n",
        "hence\n",
        "  dg/dx = 6*(2x-1)^2\n",
        "\"\"\""
      ]
    },
    {
      "cell_type": "markdown",
      "source": [
        "# Question 4: Gradient Descent\n",
        "\n",
        "## Gradient Descent\n",
        "\n",
        "\n",
        "a) Find the first-order partial derivative ∂𝐽/∂θ\n",
        "b) Apply the gradient descent update rule: θ , where is the learning rate 𝑛𝑒𝑤 = θ𝑜𝑙𝑑 − α ∂𝐽\n",
        "∂θ α\n",
        "(assume α = 0. 1)\n",
        "c) Explain how the gradient descent process helps in finding the minimum of the cost function."
      ],
      "metadata": {
        "id": "JA5bxgKY2Msv"
      }
    },
    {
      "cell_type": "code",
      "source": [
        "\"\"\"\n",
        "We wil use i instead of 0 as I have such key to type in\n",
        "\n",
        "  J(y)=y^2-4y+5\n",
        "\n",
        "(a) dJ/dy=2y-4\n",
        "\n",
        "(b) Gradient descent  update rule\n",
        "\n",
        "    y_new = y_old  -  alpha * dj/dy\n",
        "\n",
        "    y_new = y_old  - 0.1 * (2y_old-4)\n",
        "          = y_old  - 0.2y_old + 0.4\n",
        "\n",
        "    y_new =0.8*y_old + 0.4\n",
        "\n",
        "\n",
        "(c)\n",
        "Gradient Descent is Optimizer that helps to find minimum value of the  function.\n",
        "In ML, Gradient Descent tries to find minimmum of Cost function aka Loss function\n",
        "\n",
        "How it works ?\n",
        "\n",
        "1. For the COst function, gradient dencent start with any randome value of y and calculates\n",
        "f'(x) ie. slope . when slope is minimum or Zero, that point is critical point and value of f(x)\n",
        "is minimum.\n",
        "\n",
        "\n",
        "If slope is not zero, y_new=0.8*y_old + 0.4 will be calucated and procedure is repeated till we get\n",
        "f'(x)=0 slope zero or nearer to 0\n",
        "\n",
        "\"\"\""
      ],
      "metadata": {
        "colab": {
          "base_uri": "https://localhost:8080/",
          "height": 88
        },
        "id": "TcQRZSSu2Xhu",
        "outputId": "15f264aa-8673-4d58-c865-082fa5738968"
      },
      "execution_count": 3,
      "outputs": [
        {
          "output_type": "execute_result",
          "data": {
            "text/plain": [
              "\"\\nWe wil use i instead of 0 as I have such key to type in\\n\\n  J(y)=y^2-4y+5\\n\\n(a) dJ/dy=2y-4\\n\\n(b) Gradient descent  update rule \\n\\n    y_new = y_old  -  alpha * dj/dy\\n\\n    y_new = y_old  - 0.1 * (2y_old-4)\\n          = y_old  - 0.2y_old + 0.4\\n\\n    y_new =0.8*y_old + 0.4\\n\\n\\n(c)\\nGradient Descent is Optimizer that helps to find minimum value of the  function.\\nIn ML, Gradient Descent tries to find minimmum of Cost function aka Loss function\\n\\nHow it works ?\\n\\n1. For the COst function, gradient dencent start with any randome value of y and calculates\\nf'(x) ie. slope . when slope is minimum or Zero, that point is critical point and value of f(x)\\nis minimum.\\n\\n\\nIf slope is not zero, y_new=0.8*y_old + 0.4 will be calucated and procedure is repeated till we get\\nf'(x)=0 slope zero. \\n\\n\""
            ],
            "application/vnd.google.colaboratory.intrinsic+json": {
              "type": "string"
            }
          },
          "metadata": {},
          "execution_count": 3
        }
      ]
    }
  ],
  "metadata": {
    "colab": {
      "provenance": [],
      "authorship_tag": "ABX9TyOY7S4a8z8cQRvN3re79OMm",
      "include_colab_link": true
    },
    "kernelspec": {
      "display_name": "Python 3",
      "name": "python3"
    },
    "language_info": {
      "name": "python"
    }
  },
  "nbformat": 4,
  "nbformat_minor": 0
}